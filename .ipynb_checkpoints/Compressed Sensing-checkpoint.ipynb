{
 "cells": [
  {
   "cell_type": "markdown",
   "metadata": {},
   "source": [
    "<h1><center>  Project - Compressed Sensing - 2018-2019 </center></h1>\n",
    "\n",
    "\n",
    "\n",
    "<h2><center>  Optimization via Low Rank Approximation for Community Detection in Networks [1] <br> & <br> \n",
    "    Community Detection in Sparse Networks via Grothendieck's Inequality [2]\n",
    "    </center></h2>\n",
    "<img src=\"ENSAE.jpg\" width=\"300\">\n",
    "<h3>  <p style=\"text-align:left;\">Authors: <span style=\"float:right;\"> Professor:<br>\n",
    "    <br> Guillaume Lecué \n",
    "</span></p>\n",
    "\n",
    "Damien Grasset <br> Thibault Randrianarisoa </h3>\n"
   ]
  },
  {
   "cell_type": "markdown",
   "metadata": {},
   "source": [
    "________________\n",
    "\n",
    "# Outline\n",
    "\n",
    "## <a href=\"#1.-Introduction \" style=\"color:#00925B\">1.&nbsp;&nbsp;Introduction</a>\n",
    "\n",
    "## <a href=\"#2.-Graph-modelisation\" style=\"color:#00925B\">2.&nbsp;&nbsp;Random Graph modelisation </a>\n",
    "\n",
    "-  <a href=\"#Stochastic-Block-Model-(SBM)-and-Degree-Corrected-SBM-(DCSBM)\" style=\"color:#00925B\">2.1&nbsp;&nbsp;Stochastic Block Model and Degree-Corrected SBM </a>\n",
    "\n",
    "-  <a href=\"#Visualization\" style=\"color:#00925B\">2.2&nbsp;&nbsp;Visualization</a>\n",
    "\n",
    "## <a href=\"#3.-Different-strategies-to-solve-the-communities-detection-problem\" style=\"color:#00925B\">3.&nbsp;&nbsp;Strategies to solve the communities detection problem </a>\n",
    "\n",
    "## <a href=\"#4.-Application-to-Community-Detection-in-Networks.\" style=\"color:#00925B\">4.&nbsp;&nbsp;Application to Community Detection in Networks </a>\n",
    "\n",
    "-  <a href=\"#A.-Regularized-Spectral-Clustering-(SCR)\" style=\"color:#00925B\">4.1.&nbsp;&nbsp;Regularized Spectral Clustering (SCR)</a>\n",
    "\n",
    "-  <a href=\"#B.-Approximate-Extreme-Points-(AEP)\" style=\"color:#00925B\">4.2.&nbsp;&nbsp;Approximate Extreme Points (AEP) </a>\n",
    "\n",
    "-  <a href=\"#C.-Extreme-Points-(EP)\" style=\"color:#00925B\">4.3.&nbsp;&nbsp;Extreme Points (EP) </a>\n",
    "-  <a href=\"#D.-Unconditional-Pseudo-Likelihood-(UPL)\" style=\"color:#00925B\">4.4.&nbsp;&nbsp;Unconditional Pseudo-Likelihood (UPL)</a>\n",
    "-  <a href=\"#E.-Conditional-Pseudo-Likelihood-(CPL)\" style=\"color:#00925B\">4.5.&nbsp;&nbsp;Conditional Pseudo-Likelihood (CPL) </a>\n",
    "-  <a href=\"#F.-SDP-optimization-(SDP)\" style=\"color:#00925B\">4.6.&nbsp;&nbsp;SDP Optimization (SDP) </a>\n",
    "\n",
    "-  <a href=\"#Numerical-comparaison-of-the-different-procedures\" style=\"color:#00925B\">4.7.&nbsp;&nbsp;Numerical comparaison of the different procedures </a>\n",
    "\n",
    "\n",
    "## <a href=\"#5.-Real-word-network-Data-:-PolBlogs\" style=\"color:#00925B\">5.&nbsp;&nbsp;Real-word network Data : PolBlogs</a>"
   ]
  },
  {
   "cell_type": "markdown",
   "metadata": {},
   "source": [
    "___________________"
   ]
  },
  {
   "cell_type": "markdown",
   "metadata": {},
   "source": [
    "## 1. Introduction \n",
    "\n",
    "The two papers under scrutiny expound general methods to deal with optimization problems indexed by random matrices. More particularly, the authors are interested in the maximization of functions of the adjacency matrix of random graphs. It is of particular interest as the analysis of networks and, and above all the discovering communities within networks appears in several fields (statistics, physics, sociology...) and has diverse applications.\n",
    "\n",
    "Detection network community structure consists in infering a label vector $c \\in \\{1,....,K\\}^n$ for the n nodes of the network ($K$ being the number of communities, $c_i$ is the community of the node $i$), to which we associate an adjency matrix $A \\in \\mathcal{M}_{n\\times n}$ defined as follow : \n",
    "$$ \\left\\{ \\begin{array}{cc}\n",
    "A_{ij} = 1 & \\mbox{ if there is an edge from i to j}\\\\\n",
    "A_{ij} = 0 & \\mbox{ otherwise}\n",
    "\\end{array}\\right.$$\n",
    "\n",
    "In the papers, they focus on a specific type of network by making the hypotheses that **K is given** and the network is **undirected** (which means that the adjency matrix A assiciated to the network is symmetric) and **unweigthed**.\n",
    "In order to solve such problem, the detection methods either fit probabilistic models for the adjency  matrix A / or use algorithmic approaches to optimize global criteria derived from other considerations over label assignments c (ex: spectral approximation). We will present examples of both these strategies in what follows."
   ]
  },
  {
   "cell_type": "code",
   "execution_count": 2,
   "metadata": {},
   "outputs": [],
   "source": [
    "# Packages \n",
    "\n",
    "import warnings\n",
    "warnings.filterwarnings(\"ignore\")\n",
    "\n",
    "import os\n",
    "import time\n",
    "import tqdm\n",
    "import scipy\n",
    "import numpy as np\n",
    "import scipy as sp\n",
    "from sklearn.cluster import KMeans\n",
    "from sklearn.metrics.cluster import normalized_mutual_info_score\n",
    "\n",
    "from scipy.sparse.linalg import eigsh\n",
    "\n",
    "import networkx as nx\n",
    "import matplotlib\n",
    "import matplotlib.pyplot as plt\n",
    "\n",
    "from scipy.cluster.vq import whiten, kmeans\n",
    "from numpy import linalg as LA\n",
    "from networkx.algorithms.cuts import conductance\n",
    "\n",
    "from joblib import Parallel, delayed\n",
    "import multiprocessing\n",
    "\n",
    "from random import sample\n",
    "from cmath import phase\n",
    "\n",
    "# Parametrization \n",
    "\n",
    "n = 300\n",
    "K = 2\n",
    "gamma = 0.5\n",
    "pi = 0.5\n",
    "\n",
    "lambda_n = 15\n",
    "eps = 0.5\n",
    "tau = eps * lambda_n /n\n",
    "r = 0.3\n",
    "w1 = 1\n",
    "w2 = 1\n",
    "\n",
    "\n",
    "np.random.seed(7)"
   ]
  },
  {
   "cell_type": "markdown",
   "metadata": {},
   "source": [
    "## 2. Graph modelisation"
   ]
  },
  {
   "cell_type": "markdown",
   "metadata": {},
   "source": [
    "First of all, let's introduce two types of Random Graphs : the **Stochastic Block Model** and the **Degree-Corrected SBM**."
   ]
  },
  {
   "cell_type": "markdown",
   "metadata": {},
   "source": [
    "### Stochastic Block Model (SBM) and Degree-Corrected SBM (DCSBM)"
   ]
  },
  {
   "cell_type": "markdown",
   "metadata": {},
   "source": [
    "The **SBM**, as seen in class, is a random graph G ~ G(n,p,q), such that $0 \\leq q < p \\leq 1$, whose parameters meanings are: \n",
    "- $n \\in \\mathbb{N}^{*}$ : the number of nodes in the graph.\n",
    "- $p$ : the density parameter of egdes within communities. Two nodes from the same community are connected with an edge with probability $p$.\n",
    "- $q$ : the density parameter of egdes between communities. Two nodes from different communities are connected with probability $q$.\n",
    "\n",
    "Given those parameters, the random graph is generated as follows: \n",
    "- draw a partition $V_1 \\cup ... \\cup V_k = \\{1,..., n\\}$ of K communities among all nodes (remind that here we focus on K=2).\n",
    "- draw the adjency matrix $A \\in \\mathbb{R}^{n\\times n}$ such that $A_{ij} = A_{ji} \\mbox{ and } A_{ii} = 1$ and: \n",
    "\n",
    "$$ i>j , \\space A_{ij} \\overset{\\text{iid}}{\\sim}  \\left\\{ \\begin{array}{lcl}\n",
    "Ber(p) & \\mbox{ if } &  i \\sim j \\mbox{ and } i \\neq j\\\\\n",
    "Ber(q) & \\mbox{ if } & i\\not \\sim j\n",
    "\\end{array}\\right.$$\n",
    "\n",
    "Here, $i \\sim j$ means that nodes $i$ asnd $j$ belong to the same communities.\n",
    "\n",
    "The **Degree-Corrected SBM** is very similar to the standard SBM, in the sense that it needs the parameters n, p and q, but add an extra parameter $\\theta = (\\theta_1,..., \\theta_n)$ that aims at \"correct\" the degree of each node $i \\in \\{1, ..., n\\}$. Indeed, on the contrary to the previous model, it allows the existence of 'hub' nodes. These nodes are partularly well-connected as to many nodes across the network (in comparison to other, more regular, nodes in the network). The graph is then generated like before, with the two following extra steps: \n",
    "\n",
    "- draw a the node degree parameters $(\\theta_i)_{i=1}^n$ as iid samples from a certain distribution. In the article [1], they choose to use a specific setting for the generation of $\\theta$, that we will directly use for the parametrization of our application, which is $\\theta_i$ are drawn from the distribution $\\mathcal{P}(\\theta = 0.2) = \\lambda$ and $\\mathcal{P}(\\theta = 1) = 1 - \\lambda $\n",
    "    \n",
    "- Another extra step is needed here. If we note $P_0 = \\left(\\begin{array}{cc} w_1 & r \\\\ r & w_2 \\end{array}\\right)$ with $r$ the out-in probability ratio and $(w_1, w_2)$ controlling the relative node degrees within communities, this matrix controlled the probability matrix $P= \\left(\\begin{array}{cc} p & q \\\\ q & p \\end{array}\\right)$. So as to control the expected degree of nodes, the authors of [1] propose to rescale the matrix $P_0$ and then take: \n",
    "$$ P = \\frac{\\lambda P_0}{(n-1)(\\pi^T P_0 \\pi)(\\mathbb{E}(\\theta))^2} $$\n",
    "\n",
    "where $\\pi = n^{-1}(n_1, n_2)$, and $n_k$ the number of nodes in community $k$.\n",
    "\n",
    "As a remark, this transformation can be simplified if we state that $\\mathcal{E}(\\theta_i) = 1$ and each of the two communities have the same number of nodes :\n",
    "\n",
    "$$ \\hat{P} = \\frac{2\\lambda P_0}{(n-1)(p+q)} $$\n",
    "   \n",
    "Then, edges are generated in a similar way to SBM, but including the node degree parameters $\\theta_i$ and $\\theta_j$ of each pair of nodes : \n",
    "- draw a partition $V_1 \\cup ... \\cup V_k = \\{1,..., n\\}$ of K communities among all nodes.\n",
    "- draw the adjency matrix $ A \\in \\mathbb{R}^{n\\times n}$ such that $ A_{ij} = A_{ji} \\mbox{ and } A_{ii} = 1$ and: \n",
    "\n",
    "$$ i>j ,  \\space A_{ij}  \\left\\{ \\begin{array}{lcl}\n",
    "\\mathbb{P}(\\space A_{ij} = 1)  = \\theta_i \\theta_j \\hat{p} & \\mbox{ if } &  i \\sim j \\mbox{ and } i \\neq j\\\\\n",
    "\\mathbb{P}(\\space A_{ij} = 0)  = \\theta_i \\theta_j  \\hat{q} & \\mbox{ if } & i\\not \\sim j\n",
    "\\end{array}\\right.$$\n",
    "\n",
    "\n",
    "\n",
    "Fitting these models calls for the maximization of a likelihood function over all possible label assigments which is NP-Hard in practice. Therefore, we will expounds some other strategies to recover the communities in what follows."
   ]
  },
  {
   "cell_type": "code",
   "execution_count": 3,
   "metadata": {},
   "outputs": [],
   "source": [
    "class Graph_Model():\n",
    "    \n",
    "    \"\"\"\n",
    "    Graph class for simulations.\n",
    "    Create graph from SBM and DCSBM models with two communities (gamma=0 gives the SBM).\n",
    "    \"\"\"\n",
    "    \n",
    "    def __init__(self, n, r, w1, w2, lambda_n, pi, gamma):\n",
    "        \n",
    "        # Attributes defining the model\n",
    "        self.n = n  # nodes count\n",
    "        self.r = r  # out-in probability ratio\n",
    "        self.w1 = w1  # weight of first community\n",
    "        self.w2 = w2  # weight of second community\n",
    "        self.lambda_n = lambda_n  # overall expected network degree\n",
    "        self.pi = pi  # expected fraction of nodes from first community\n",
    "        self.gamma = gamma  # probability of node degree parameter being equal to 0.2. Equal 1 otherwise.\n",
    "        \n",
    "        # community vector\n",
    "        # With K = 2, it can be seen as a draw from a binomial distribution\n",
    "        if self.pi>0:  # drawing nodes community from binomials\n",
    "            pi_ = np.random.binomial(n, pi) # count of nodes from first community\n",
    "            index_ = sample(range(0, n), pi_)\n",
    "            self.labels = [-1 if i in index_ else 1 for i in range(n)]\n",
    "            self.count_first = len(index_)\n",
    "        else: # for balanced planted model\n",
    "            self.labels = [-1 if i<=n//2 else 1 for i in range(1,n+1)]  # first half of nodes are in the first community\n",
    "            self.count_first = n//2\n",
    "        \n",
    "        # node degree parameters\n",
    "        if gamma == 0:  # gives the SBM\n",
    "            self.nd = [1]*n\n",
    "        else:  # DCSBM\n",
    "            self.nd = [0.8*np.random.binomial(1,gamma)+0.2 for _ in range(self.n)]\n",
    "                        \n",
    "        # Probability matrix\n",
    "        repart_comm = (1/self.n)*np.array([self.count_first,n-self.count_first])  # community proportions\n",
    "        self.P0 = np.array([[w1,r],[r,w2]])\n",
    "        self.probas = lambda_n * self.P0 /\\\n",
    "            ((self.n-1)*((1-0.8*gamma)**2)*\\\n",
    "             (np.dot(\n",
    "            np.dot(repart_comm, self.P0), repart_comm)\n",
    "             )\n",
    "            )  # normalisation as suggested in [1]\n",
    "        \n",
    "        self.adjency_matrix = np.identity(n)\n",
    "        self.edges = []\n",
    "        self.get_adjency_edges()\n",
    "\n",
    "    def get_adjency_edges(self):\n",
    "\n",
    "        ''' Construct the Adjency Matrix by drawing edges according the model probabilities '''\n",
    "\n",
    "        for i in range(self.n):\n",
    "            for j in range(i):\n",
    "                ci, cj = self.labels[i], self.labels[j]\n",
    "                edge = np.random.binomial(1,self.nd[i]*self.nd[j]*self.probas[(1+ci)//2, (1+cj)//2])\n",
    "                if edge:\n",
    "                    self.edges.append((i,j))\n",
    "                    self.adjency_matrix[i,j], self.adjency_matrix[j,i] = 1, 1\n",
    "                    \n",
    "    def NMI(self, c):\n",
    "        \n",
    "        ''' Normalized Mutual Score between an estimation and the real label vector'''\n",
    "        \n",
    "        return(\n",
    "            normalized_mutual_info_score(\n",
    "                labels_true = self.labels, labels_pred = c,\n",
    "                average_method='arithmetic')\n",
    "        )\n",
    "    \n",
    "    def count_misfits(self):      \n",
    "\n",
    "        ''' Count the number of isolated nodes in the graph. This happens a lot with graph with few nodes.\n",
    "            It can impact the efficiency of method such as EP without regularization.'''\n",
    "\n",
    "        count = 0\n",
    "        for i in range(self.n):\n",
    "            if self.adjency_matrix[i,:].sum()==1  :\n",
    "                count+=1\n",
    "        return count\n",
    "    \n",
    "    def OKL(self, e, comm1, comm2):\n",
    "        '''Return the number of edges between community comm1 and comm2'''\n",
    "        \n",
    "        indice_1 = [index for index, comm in enumerate(e) if comm == comm1]\n",
    "        indice_2 = [index for index, comm in enumerate(e) if comm == comm2]\n",
    "        \n",
    "        return np.sum([self.adjency_matrix[i1, i2] for i1 in indice_1 for i2 in indice_2])\n",
    "    \n",
    "    def OK(self, e, comm):\n",
    "        return np.sum([self.OKL(e, comm, comm_) for comm_ in set(e)])\n",
    "    \n",
    "    def comm_effectif(self, e, comm):\n",
    "        return(np.sum([comm_==comm for comm_ in e]))\n",
    "\n",
    "    def sbm_proflikelihood(self, e):\n",
    "        '''profile likelihood of the SBM'''\n",
    "        qbm = 0\n",
    "        communities = set(e)\n",
    "        for i in communities:\n",
    "            for j in communities:\n",
    "                qbm += self.OKL(e,i,j)*np.log(self.OKL(e,i,j)/(self.comm_effectif(e,i)*self.comm_effectif(e,i)))\n",
    "        return(qbm)\n",
    "    \n",
    "    def dcsbm_proflikelihood(self, e):\n",
    "        '''profile likelihood of the DCSBM'''\n",
    "        qdc = 0\n",
    "        communities = set(e)\n",
    "        for i in communities:\n",
    "            for j in communities:\n",
    "                qdc += self.OKL(e,i,j)*np.log(self.OKL(e,i,j)/(self.OK(e,i)*self.OK(e,i)))\n",
    "        return(qdc)\n",
    "    \n",
    "    def NG_mod(self, e):\n",
    "        '''Newman-Girvan modularity'''\n",
    "        qng = 0\n",
    "        communities = set(e)\n",
    "        m = np.sum(self.adjency_matrix)\n",
    "        for i in communities:\n",
    "            qng += self.OKL(e,i,i) - self.OK(e,i)**2/m\n",
    "        return(qng/(2*m))\n",
    "    \n",
    "    def Extraction_criteria(self, e):\n",
    "        \"\"\"Community extraction criteria. Note that this implementation is correct only in the case\n",
    "        of 2 communities which is what we're interested in here.\"\"\"\n",
    "        n = len(e)\n",
    "\n",
    "        index_comm = [index for index, comm in enumerate(e) if comm == 1]\n",
    "        O = np.sum([self.adjency_matrix[i][j] for i in index_comm for j in index_comm])\n",
    "        B = np.sum([self.adjency_matrix[i][j] for i in index_comm for j in list(set(list(range(n))) - set(index_comm))])\n",
    "\n",
    "        V = len(index_comm)\n",
    "        if V==0:\n",
    "            return 0\n",
    "        \n",
    "        Vc = n-V\n",
    "\n",
    "        return( Vc*O/V - B )"
   ]
  },
  {
   "cell_type": "code",
   "execution_count": 4,
   "metadata": {},
   "outputs": [],
   "source": [
    "graph = Graph_Model(n = 30, lambda_n = 1.5, r = 0.3, w1=1, w2=3, gamma=0, pi=0.5) #SBM\n",
    "graph = Graph_Model(n = 30, lambda_n = 1.5, r = 0.3, w1=1, w2=3, gamma=0.5, pi=0.5)  #DCSBM"
   ]
  },
  {
   "cell_type": "markdown",
   "metadata": {},
   "source": [
    "### Visualization"
   ]
  },
  {
   "cell_type": "markdown",
   "metadata": {},
   "source": [
    "Let's define one function that will enable us to plot and vizualise the generated networks."
   ]
  },
  {
   "cell_type": "code",
   "execution_count": 5,
   "metadata": {},
   "outputs": [],
   "source": [
    "import networkx as nx\n",
    "import matplotlib.pyplot as plt\n",
    "\n",
    "\n",
    "def plot_network(graph, graph_layout='random'):\n",
    "\n",
    "    '''Plot function to vizualise Generated Networks '''\n",
    "    \n",
    "    # Parameters for the graph plot\n",
    "    node_size=100\n",
    "    node_color='black'\n",
    "    node_alpha=0.8\n",
    "    node_text_size=6\n",
    "    edge_color='black'\n",
    "    edge_alpha=0.1\n",
    "    edge_tickness=1\n",
    "    text_font='sans-serif'\n",
    "\n",
    "    # create networkx graph\n",
    "    G=nx.Graph()\n",
    "\n",
    "    for node in range(graph.n):\n",
    "        G.add_node(node)\n",
    "    for edge in graph.edges:\n",
    "        G.add_edge(edge[0], edge[1])\n",
    "\n",
    "    # these are different layouts for the network you may try\n",
    "    # shell seems to work best\n",
    "    if graph_layout == 'spring':\n",
    "        graph_pos=nx.spring_layout(G)\n",
    "    elif graph_layout == 'spectral':\n",
    "        graph_pos=nx.spectral_layout(G)\n",
    "    elif graph_layout == 'random':\n",
    "        graph_pos=nx.random_layout(G)\n",
    "    else:\n",
    "        graph_pos=nx.shell_layout(G)\n",
    "\n",
    "    # Draw graphs\n",
    "    plt.figure(figsize=(20,5))\n",
    "    \n",
    "    # Observed network\n",
    "    plt.subplot(121)\n",
    "    plt.title('Observed network')\n",
    "\n",
    "\n",
    "    nx.draw_networkx_nodes(G,graph_pos,node_size=node_size, \n",
    "                           alpha=node_alpha, node_color=node_color)\n",
    "    nx.draw_networkx_edges(G,graph_pos,width=edge_tickness,\n",
    "                           alpha=edge_alpha,edge_color=edge_color)\n",
    "    \n",
    "    # With the communities highlighten\n",
    "    plt.subplot(122)\n",
    "    plt.title('Network with actual communities')\n",
    "    nx.draw_networkx_nodes(G,graph_pos,\n",
    "                           nodelist=[node for node,label in enumerate(graph.labels) if label==-1],\n",
    "                           node_color='r',\n",
    "                           node_size=node_size,\n",
    "                           alpha=node_alpha) # first community\n",
    "\n",
    "    nx.draw_networkx_nodes(G,graph_pos,\n",
    "                           nodelist=[node for node,label in enumerate(graph.labels) if label==1],\n",
    "                           node_color='b',\n",
    "                           node_size=node_size,\n",
    "                           alpha=node_alpha)  # second community\n",
    "\n",
    "    nx.draw_networkx_edges(G,graph_pos,width=edge_tickness,\n",
    "                           alpha=edge_alpha,edge_color=edge_color)\n",
    "\n",
    "    plt.show()"
   ]
  },
  {
   "cell_type": "code",
   "execution_count": 6,
   "metadata": {},
   "outputs": [
    {
     "data": {
      "image/png": "[encoded data removed]",
      "text/plain": [
       "<matplotlib.figure.Figure at 0x1043e1470>"
      ]
     },
     "metadata": {},
     "output_type": "display_data"
    }
   ],
   "source": [
    "plot_network(graph)"
   ]
  },
  {
   "cell_type": "markdown",
   "metadata": {},
   "source": [
    "## 3. Different strategies to solve the communities detection problem"
   ]
  },
  {
   "cell_type": "markdown",
   "metadata": {},
   "source": [
    "In the papers, we'll be interested in maximimizing several criteria:\n",
    "- **resolution of a semidefinite optimization problem in [2]**\n",
    "- **maximizing the profile likelihood of the degree-corrected SBM (DCSBM)**\n",
    "- **maximizing the profile likelihood of the SBM.**\n",
    "- **maximizing the the Newman-Girvan modularity**\n",
    "- **maximizing the the community extraction criterion**\n",
    "\n",
    "In this work, we will focus on the three first optimization problems. Still, we will present all of these below."
   ]
  },
  {
   "cell_type": "markdown",
   "metadata": {},
   "source": [
    "**Modularity** : \n",
    "\n",
    "This criterion originates from the idea of comparing the observed network to a null model that has no community structure. More particularly, the Newman-Girvan Modularity compares the observed number of edges within communities to the number that would be expected under the Chung-Lu model for the entire graph. With the following notations, \n",
    "- $e$ be an n-dimensional label vector.\n",
    "- $n_k(e) = \\sum_{i=1}^n I(e_i=k)$ nb of nodes in the community k\n",
    "- $O_{kl}(e) = \\sum_{i=1}^n\\sum_{j=1}^n A_{ij}I(e_i=k, e_j=l)$ nb of edges between communities k and l ($k \\ne l$)\n",
    "- $O_k = \\sum_{l=1}^K O_{kl}$ the sum of node degrees in community k \n",
    "- $d_i = \\sum_{j=1}^n A_{ij}$ degree of node i \n",
    "- $m = \\sum_{i=1}^n d_i$ (twice) the total of number of edges in the graph\n",
    "\n",
    "the modularity is given by\n",
    "\n",
    "$$ Q_{NG}(e) = \\frac{1}{2m} \\sum_k (O_{kk} - \\frac{O_k^2}{m})$$\n",
    "\n",
    "\n",
    "**Profile likelihoods of SBM and DCSBM**: \n",
    "\n",
    "When the likelihood function depends on many parameters, there is possibly only a subset of these parameters that are of interest. It may then be possbile to reduce the number of uninteresting (nuisance) parameters, taking them as functions of the parameters of interest. For instance, the functions might be the value of the nuisance parameter which maximizes the likelihood given the value of the other (interesting) parameters.\n",
    "\n",
    "This procedure is called concentration of the parameters and results in the concentrated likelihood function, also often called the **profile likelihood function**. It is then possible (and simpler) to find the values of the parameters which maximizes the profile likelihood function (similar to the maximum likelihood). The profile likelihoods of the two models detailed above are provided there:\n",
    "\n",
    "$$ Q_{BM}(e) =  \\sum_{k=1}^K\\sum_{l=1}^K O_{kl}\\log \\frac{O_{kl}}{n_kn_l} $$\n",
    "$$ Q_{DC}(e) =  \\sum_{k=1}^K\\sum_{l=1}^K O_{kl}\\log \\frac{O_{kl}}{O_kO_l} $$\n",
    "\n",
    "**Extraction Criteria** :\n",
    "\n",
    "This criterion is motivated by the intuitive definition of community as a tightly knit group rather than by fitting a probability model to the network. This recognizes that some nodes may not belong to any community and the strength of a community should depend on ties between its members and ties to the outside world (but not on ties between non-members). The criterion value is given by:\n",
    "\n",
    "$$Q_{EX}(V) = |V||V^c|\\left(\\frac{O(V)}{|V|^2} - \\frac{B(V)}{|V||V^c|}\\right)$$\n",
    "\n",
    "where : \n",
    "- V : the set of nodes in the community to be extracted\n",
    "- $V^c$ complement of V\n",
    "- $O(V) = \\sum_{i,j \\in V} A_{ij}$\n",
    "- $B(V) = \\sum_{i \\in V, j \\in V^c} A_{ij}$\n",
    "\n",
    "The optimization of this criterion can be done via greedy label switching (ex : via tabu seach algorithm).\n",
    "\n",
    "**Semidefinite optimization**\n",
    "\n",
    "The idea, developed in [2], consists in solving the problem:\n",
    "\n",
    "$$\\hat{Z}\\in\\underset{Z\\succeq0,\\quad diag(Z)\\preceq I_n}{max}<A,Z>-\\lambda<E_n,Z>$$\n",
    "\n",
    "where $<A,B>=Tr(A^T B)$, $I_n$ is the identity matrix of size $n$, $E_n$ is matrix of all ones and $\\lambda=\\frac{2}{n(n-1)}\\sum_{i<j}a_{ij}$ is the average degree of the graph.\n",
    "\n",
    "The estimated community vector is then $sign(\\hat{x})$ where $\\hat{x}$ is the eigenvector of $\\hat{Z}$ associated to the largest eigenvalue."
   ]
  },
  {
   "cell_type": "markdown",
   "metadata": {},
   "source": [
    "**Contribution of paper** :\n",
    "\n",
    "The paper [1] develops a new method to optimize a function over discrete labels $e$ when this function depends on a network adjacency matrix $A$. The method developed relies on the fact that, for a family of function satisfying some conditions presented below, the objective depends only on the projection of $e$, $U_Ae$, on a low-dimensional space. Here, $U_A$ typically approximates the row space of $A$. Reducing the problem in this way, one avoids the need to evaluate the function at all possibles label assignments (combinatorial problem). Instead, when the projection space is two-dimensional for instance, the set of points that need to be checked is of linear size. The complexioty of the algorithm is then much lower.\n",
    "\n",
    "In practice, the issue the paper tackle is the problem of maximizing $f_B$, whose solution will be noted as $c$, when we only have access to $f_A$. The results in the article are thus general but are particularly interesting when $A$ is the adjacency matrix of a graph and $B=\\mathbb{E}A$ is its expectation. The authors then derive bounds on the error made when one aims at solving the problem involving $A$ with the method developed below, whereas we are more interested in the solution of the problem involving $B$.\n",
    "\n",
    "In the following, note that each quantities presented with a subscript $A$ will have its counterpart with subscript $B$. First, let's assume that $B$ is of rank $m$. The functions involved here are assumed to satisfy the following hypotheses:\n",
    "\n",
    "0. $f_A(e)=\\sum_{j=1}^\\kappa g_j(h_{A,j}(e))$, for some $\\kappa$, where $g_j$ is a scalar function and $h_{A,j}(e)=(e+s{j1})^TA(e + s_{j2})$ is a quadratic form of $A$. In addition, $s_{ji}\\in\\{-1,1\\}^n$ is a constant vector. Consequently, making the same hypotheses on $f_B$, one can see that this function only depends on $U_Be$ where $U_B$ is the projection on the space spanned by the $m$ leading eigenvectors of $B$. We also write $U_A$ the projection on the $m$ leading eigenvectors of $A$, which aims at approximating $U_B$. With hypothesis 2. below, one can study $f_B$ as a function on $[-1,1]^n$ as its maximum is attained on its extreme points. It is then sufficient to find the solution on $U_B\\zeta_B$, where $\\zeta_B$ denotes the set of labels corresponding to the set of extreme points of $U_B[-1,1]^n$. We then note\n",
    "$$e^*=argmax\\{f_A(e), e\\in\\zeta_A\\}$$\n",
    "1. Functions $g_j$ are continuously differentiable and there exists $M_1>0$ such that $|g'_j(t)|\\leq M_1 log(t+2)$ for $t \\geq 0$. \n",
    "2. $f_B$ is convex on $U_B[-1,1]^n$.\n",
    "3. There exists $M_3>0$ such that for any $e\\in\\{-1,1\\}^n$, $||c-e||^2\\leq M_3\\sqrt{n}||U_Bc-U_Be||$. This rules out the possibility of multiple label vectors whose projection are the same, $U_B(c)$.\n",
    "4. There exists $M_4>0$ such that for any $x\\in U_B[-1,1]^n$, $$\\frac{f_B(U_B(c))-f_B(x)}{||U_B(c)-x||}\\geq \\frac{\\max f_B-\\min f_B}{M_4\\sqrt{n}}$$"
   ]
  },
  {
   "cell_type": "markdown",
   "metadata": {},
   "source": [
    "The main theorem developed in the paper is then the following, as it will provides upper bounds on the error made by the estimators:\n",
    "\n",
    "**Theorem 2.2** :\n",
    "\n",
    "Under assumptions presented above, there exists a constant $M_5$ such that\n",
    "\n",
    "$$\\frac{1}{n}||e^*-c||^2\\leq \\frac{M_5n \\log(n) \\left(||B||\\times||U_A-U_B||+||A-B||\\right)}{\\max f_B - \\min f_B}$$\n",
    "\n",
    "using the euclidean and the Froebenius norm on corresponding spaces."
   ]
  },
  {
   "cell_type": "markdown",
   "metadata": {},
   "source": [
    "\n",
    "To solve the problem at hand, the authors then propose the following algorithm:\n",
    "\n",
    "1. Compute the approximation $U_A$ of $U_B$.\n",
    "2. Find the labels $e$ associated with the extreme points of $U_A[-1,1]^n$, i.e. $\\zeta_A$. It reduces the number of possible solutions (extreme points) from exponential to polynomial (here $O(2^n)$ to $O(n)$ for 2 communities) which makes the optimization easier. The algorithm that we will use finds this points in $O(n\\log(n))$ operations which is negligeable in comparison with the complexity of the previous step.\n",
    "3. Find the maximum of $f_A(e)$ by performing an exhaustive search over the set from previous step.\n",
    "\n",
    "This method seems then to be applicable to a broad range of optimization problem as we will see below."
   ]
  },
  {
   "cell_type": "markdown",
   "metadata": {},
   "source": [
    "In the paper [2], the authors applies the Grothendieck's inequality on the random error matrix $A-\\mathbb{E}A$ to show that the resolution of the SDP problem presented before can achieve an arbitrary good accuracy. They focus on the resolution of problems of the form, whose solution is noted $\\hat{Z}$ for some matrix $L$:\n",
    "\n",
    "$$\\underset{Z\\in\\mathcal{M}_{opt}}{max} <L,Z>$$\n",
    "\n",
    "where $\\mathcal{M}_{opt}$ is a convex subset of the set of positive semidefinite matrices whose entries are all bounded by $1$ in absolute values. Once again, the real solution we are interested in is the one of the problem where the matrix $A$ is replaced with $\\mathbb{E}A$.\n",
    "\n",
    "Under the conditions that the solution $\\bar{Z}\\in\\subset{Z\\in\\mathcal{M}_{opt}}{argmax} <\\mathbb{E}A,Z>$ is such that $\\bar{Z}=cc^T$ (i.e. the semidefinite relaxation of the expected problem is tight), with high probability one has that $\\subset{x,y\\in \\{-1,1\\}^n}{|<A-\\mathbb{E}A, xy^T>|}<\\epsilon$ (uniform deviation inequality), $<\\bar{A},\\hat{Z}\\geq <\\bar{A}, \\bar{Z}> - M$ where M is a constant depending on $\\epsilon$ and finally that the expected objective function distinguishes points near its maximizer (so that an almost maximizer will be close to the true maximizer), they show that one can recover the community vector with only a small subset of nodes misclassified.\n",
    "\n",
    "In the case of the SBM, one can use the Bernstein's inequality to prove that the second assumption is satisifed and they use the Grothendieck's inequality for the second assumption.\n",
    "\n",
    "**Grothendieck's inequality, PSD**\n",
    "Every matrix $B\\in\\mathbb{R}^{n\\times n}$ satisfies\n",
    "\n",
    "$$\\underset{Z\\in \\mathcal{M}_G^+}{max}|<B,Z>|\\leq K_G ||B||_{\\infty\\dashrightarrow 1}$$\n",
    "\n",
    "where $\\mathcal{M}_1=\\{st^T:\\quad s,t\\in\\{-1,1\\}^n\\}$ and $\\mathcal{M}_G^+=\\{Z:\\quad Z\\succeq0,diag(Z)\\preceq I_n\\}$\n",
    "\n",
    "**Bernstein's inequality**\n",
    "Let Y_1,...,Y_N be independant random variables such that $\\mathbb{E}Y_k=0$ and $|Y_k|\\leq M$. Denote $\\sigma^2 = \\frac{1}{N}\\sum_{k=1}^N Var(Y_k)$. Then, for any $t\\geq 0$, one has\n",
    "\n",
    "$$\\mathbb{P}\\left(\\frac{1}{N}\\sum_{k=1}^N Y_k>t\\right)\\leq exp\\left(-\\frac{Nt^2/2}{\\sigma^2 + Mt/3}\\right)$$\n",
    "\n",
    "\n",
    "Such arguments are then fairly simple which makes this approach attractive as it seems that it can be applied to a broad range of problems.\n",
    "\n",
    "\n",
    "For the SBM model, they obtain the following results, showing that arbitrary accuracy can be achieved\n",
    "\n",
    "**Theorem 1.1** (Community Detection in classical SBM)\n",
    "\n",
    "Let $\\epsilon \\in (0,1)$ and $n \\geq 10^{4}\\epsilon^{-2}$. Let A be the adjency matrix of the random graph drawn from the SBM $G(n,p,q)$ with $\\max\\{p(1-p),q(1-q)\\} \\geq \\frac{20}{n}$. Assume that $p=\\frac{a}{n}>q=\\frac{b}{n}$, and : \n",
    "\n",
    "$$(a-b)^2 \\geq 10^4\\epsilon^{-2}(a+b)$$\n",
    "\n",
    "Let $\\hat{Z}$ be the solution of the SDP problem. Then, with probability at least $1 - e^35^{-n}$, we have :\n",
    "\n",
    "$$||\\hat{Z} - \\bar{x}\\bar{x}^T||_2^2 \\leq \\epsilon n^2 = \\epsilon ||\\bar{x}\\bar{x}^T||_2^2$$\n",
    "\n",
    "**Corollary 1.2** (Community detection with $o(n)$ misclassifier vertices).\n",
    "\n",
    "In the setting of Theorem 1.1, let $\\hat{x}$ denote an eigenvector of $\\hat{Z}$ corresponding to the largest eigenvalue, and with $||\\hat{x}||_2 = \\sqrt{n}$. Then :\n",
    "\n",
    "$$\\min\\limits_{\\alpha = \\pm1} ||\\alpha \\hat{x} - \\bar{x}||_2^2 \\leq \\epsilon n = \\epsilon ||\\bar{x}||_2^2$$\n",
    "\n",
    "In particular, the signs of the coefficients of $\\hat{x}$ correctly estimate the partition of the vertices into the two communities, up to at most $\\epsilon n$ misclassified vertices."
   ]
  },
  {
   "cell_type": "markdown",
   "metadata": {},
   "source": [
    "**Sparsity issues**\n",
    "\n",
    "As noted in the articles, the method from [2] presents the adavantage of being robust to sparsity (i.e. when the expected node degree grows slower than $O(\\log(n))$) and can still achieve an arbitrary good recovery of the communities in this setting. Indeed, the results developed in the paper shows that the fraction of missclassified nodes will still tend to zero in this setting.\n",
    "\n",
    "On the other hand, the method from [1] suffers from the same limitations as most of the approaches found in the literature. Indeed, the hypotheses made rules out the possibility of sparse graphs when the number of nodes increases. Still, the method is attractive as its general formulation makes it applicable to a broad range of problems."
   ]
  },
  {
   "cell_type": "markdown",
   "metadata": {},
   "source": [
    "## 4. Application to Community Detection in Networks.\n",
    "\n",
    "In paper [1], it is shown that the following quantities all verifies the assumptions on the form and behavior made above, or at least, the minor exception don't prevent us from applying their main theorem.\n",
    "\n",
    "$$ Q_{BM}(e) =  \\sum_{k=1}^K\\sum_{l=1}^K O_{kl}\\log \\frac{O_{kl}}{n_kn_l} $$\n",
    "$$ Q_{DC}(e) =  \\sum_{k=1}^K\\sum_{l=1}^K O_{kl}\\log \\frac{O_{kl}}{O_kO_l} $$"
   ]
  },
  {
   "cell_type": "code",
   "execution_count": 9,
   "metadata": {},
   "outputs": [],
   "source": [
    "def eig_laplacian(A, k=2):\n",
    "    ''' Computes the top eigenvalues/eigenvectors of the Laplacian of A'''\n",
    "    n = np.shape(A)[0]\n",
    "    D = np.diag(1 / np.sqrt(np.ravel(A.sum(axis=0))))\n",
    "    L = D.dot(A).dot(D)\n",
    "    return eigsh(L, k, which='LM')\n",
    "\n",
    "def eig_laplacian_regularized(A, k=2, tau = 0.01):\n",
    "    ''' Computes the eigenvectors of the regularized Laplacian and the diagonal normalizing matrix'''\n",
    "    n = np.shape(A)[0]\n",
    "    D_ = np.diag(1 / np.sqrt(np.ravel(A.sum(axis=0))))  # regularizing matrix for approximating vectors\n",
    "    \n",
    "    A_t = np.add(A, tau)\n",
    "    D = np.diag(1 / np.sqrt(np.ravel(A_t.sum(axis=0))))\n",
    "    L = D.dot(A_t).dot(D)\n",
    "    return eigsh(L, k, which='LM'), D_"
   ]
  },
  {
   "cell_type": "markdown",
   "metadata": {},
   "source": [
    "In order to solve this maximization procedure, they introduce 5 different strategies : \n",
    "\n",
    "-  <a href=\"#A.-Regularized-Spectral-Clustering-(SCR)\" style=\"color:#00925B\">A.&nbsp;&nbsp;Regularized Spectral Clustering (SCR)</a>\n",
    "\n",
    "-  <a href=\"#B.-Approximate-Extreme-Points-(AEP)\" style=\"color:#00925B\">B.&nbsp;&nbsp;Approximate Extreme Points (AEP) </a>\n",
    "\n",
    "-  <a href=\"#C.-Extreme-Points-(EP)\" style=\"color:#00925B\">C.&nbsp;&nbsp;Extreme Points (EP) </a>\n",
    "-  <a href=\"#D.-Unconditional-Pseudo-Likelihood-(UPL)\" style=\"color:#00925B\">D.&nbsp;&nbsp;Unconditional Pseudo-Likelihood (UPL)</a>\n",
    "-  <a href=\"#E.-Conditional-Pseudo-Likelihood-(CPL)\" style=\"color:#00925B\">E.&nbsp;&nbsp;Conditional Pseudo-Likelihood (CPL) </a>\n",
    "-  <a href=\"#F.-SDP-optimization-(SDP)\" style=\"color:#00925B\">F.&nbsp;&nbsp;SDP Optimization (SDP) </a>\n"
   ]
  },
  {
   "cell_type": "markdown",
   "metadata": {},
   "source": [
    "\"a good approximation to the eigenvectors\n",
    "of E[A] is provided by the eigenvectors of the regularized Laplacian.\""
   ]
  },
  {
   "cell_type": "markdown",
   "metadata": {},
   "source": [
    "#### A. Regularized Spectral Clustering (SCR)\n",
    "\n",
    "1. Compute Eigenvectors of Regularized Laplacian. The regularization simply consists in adding a constant $\\tau$, quite small (in the paper, they choose $\\tau = \\epsilon \\frac{\\lambda}{n} \\sim 0.025$) to each component of the adjency matrix $A$ and compute the eigen values on this new matrix $A + \\tau \\mathbb{1}\\mathbb{1}^T$\n",
    "2. Compute KMeans with 2 first eigenvectors $u_1$, $u_2$ as input.\n",
    "3. Get Labels from trained Kmeans"
   ]
  },
  {
   "cell_type": "code",
   "execution_count": 10,
   "metadata": {
    "scrolled": false
   },
   "outputs": [
    {
     "name": "stdout",
     "output_type": "stream",
     "text": [
      "True Communities:\n",
      "[-1, -1, -1, 1, 1, 1, 1, 1, 1, -1, -1, -1, -1, -1, -1, -1, -1, -1, 1, -1, 1, -1, -1, 1, 1, -1, -1, 1, -1, -1, -1, 1, 1, -1, -1, 1, 1, 1, -1, 1, -1, 1, 1, -1, -1, 1, -1, 1, -1, -1]\n",
      "Estimation:\n",
      "[-1 -1  1  1  1 -1  1  1  1 -1 -1  1 -1 -1  1  1 -1  1  1  1  1  1 -1  1\n",
      "  1 -1 -1  1 -1  1  1  1  1 -1  1  1  1  1 -1  1 -1  1  1  1 -1  1 -1  1\n",
      "  1  1]\n",
      "Normalized Mutual Score of SCR estimate: 0.2448\n"
     ]
    },
    {
     "data": {
      "image/png": "[encoded data removed]",
      "text/plain": [
       "<matplotlib.figure.Figure at 0x121ceceb8>"
      ]
     },
     "metadata": {},
     "output_type": "display_data"
    }
   ],
   "source": [
    "# Test SCR\n",
    "\n",
    "print('True Communities:')\n",
    "print(graph.labels)\n",
    "\n",
    "# 1. Compute eigenvalues of Regularized Clustering\n",
    "Eig, D = eig_laplacian_regularized(graph.adjency_matrix, k=2, tau=tau)\n",
    "\n",
    "# 2. Train Kmeans on the two first eigenvectors (Z with k=2)\n",
    "Kmeans = KMeans(n_clusters=2, random_state=37, init ='random', n_init = 40).fit(Eig[1])\n",
    "\n",
    "print('Estimation:')\n",
    "print(Kmeans.labels_*2-1)\n",
    "\n",
    "\n",
    "print('Normalized Mutual Score of SCR estimate: {:.4f}'.format(graph.NMI(Kmeans.labels_*2-1)))\n",
    "\n",
    "\n",
    "plt.figure(figsize=(20,5))    \n",
    "plt.subplot(121)\n",
    "plt.title('Projections of eigenvectors coordinate with true labels as color')\n",
    "plt.scatter(Eig[1][:,0], Eig[1][:,1], c = graph.labels)\n",
    "plt.subplot(122)\n",
    "plt.title('Projections of eigenvectors coordinate with SCR estimasted labels as color')\n",
    "plt.scatter(Eig[1][:,0], Eig[1][:,1], c = Kmeans.labels_*2-1)\n",
    "plt.show()"
   ]
  },
  {
   "cell_type": "code",
   "execution_count": 11,
   "metadata": {},
   "outputs": [],
   "source": [
    "def SCR_prediction(adjency_matrix, rs=37):\n",
    "    Eig, D = eig_laplacian_regularized(adjency_matrix, k=2, tau = tau)\n",
    "    Kmeans = KMeans(n_clusters=2, random_state=rs, init ='random', n_init=100).fit(Eig[1])\n",
    "    return Kmeans.labels_*2-1"
   ]
  },
  {
   "cell_type": "markdown",
   "metadata": {},
   "source": [
    "One way to evaluate the score of this community detection method is to use the Normalized Mutual Information Score (provided in SkLearn for instance), that will compare the labelisation obtained via our Regularized Spectral Clustering with the ground truth labelisation from a random graph. To do so, we generate 100 different random graphs, compute the NMI, and plot the boxplot of results. "
   ]
  },
  {
   "cell_type": "code",
   "execution_count": 12,
   "metadata": {},
   "outputs": [
    {
     "name": "stderr",
     "output_type": "stream",
     "text": [
      "Widget Javascript not detected.  It may not be installed or enabled properly.\n"
     ]
    },
    {
     "data": {
      "application/vnd.jupyter.widget-view+json": {
       "model_id": "52becff1e5ec4441b1cb6429ca4d8c78"
      }
     },
     "metadata": {},
     "output_type": "display_data"
    },
    {
     "name": "stdout",
     "output_type": "stream",
     "text": [
      "\n"
     ]
    },
    {
     "data": {
      "image/png": "[encoded data removed]",
      "text/plain": [
       "<matplotlib.figure.Figure at 0x11e970160>"
      ]
     },
     "metadata": {},
     "output_type": "display_data"
    }
   ],
   "source": [
    "NMI_values = []\n",
    "np.random.seed(8)\n",
    "\n",
    "for i in tqdm.tqdm_notebook(range(100)):\n",
    "    graph = Graph_Model(n = n, lambda_n = lambda_n, r = r, w1=w1, w2=w2, gamma=gamma, pi=pi)  #DCSBM\n",
    "    SCR_pred = SCR_prediction(graph.adjency_matrix, rs=i)\n",
    "    NMI_values.append(graph.NMI(SCR_pred))\n",
    "\n",
    "plt.boxplot(NMI_values)\n",
    "plt.show()"
   ]
  },
  {
   "cell_type": "markdown",
   "metadata": {},
   "source": [
    "**Remarks :**\n",
    "\n",
    "Without regularization, leadings eigenvectors of the Laplacian of A tends to localize around the small connected components which leads to inconsistency in the spectral clustering. At first, I implemented the spectral clustering without regularization, and I had a hard time when some \"misfits nodes\" where present, ie nodes with degree zero for instance.\n",
    "\n",
    "In addition, the Laplacian formula from [1] differs from the one seen in class. One chosed to use another formula found in the literature\n",
    "\n",
    "$$L = I - D^{1/2}AD^{1/2}$$\n",
    "\n",
    "which gave us better empirical results."
   ]
  },
  {
   "cell_type": "markdown",
   "metadata": {},
   "source": [
    "#### B. Approximate Extreme Points (AEP)\n",
    "\n",
    "The Approximate Extreme Points procedure is based on a geometric property of the feasible set that we obtain by projecting the original space into a 2-dimensional space. Indeed, for the SBM model with two communities, one can verify that $U_{\\mathbb{E}A}[-1,1]^n$ is a parallelogram. One can then directly approximates the extreme points of the parallelogram (which are $\\{U_{\\mathbb{E}A}1, -U_{\\mathbb{E}A}1, U_{\\mathbb{E}A}c, -U_{\\mathbb{E}A}c\\}$) among which one is the projection of the true community vector $c$.\n",
    "\n",
    "Here, the idea is to first use $(D^{1/2}u_1, D^{1/2}u_2)$ instead of $(u_1,u_2)$ which are the two leading eigenvectors of the regularized Laplcacian of A. These vectors are the rows of the projection matrix $U_A$ such that one can project the cube $[-1,1]^n$ into a 2d subspace. \n",
    "\n",
    "The estimation of the label vectors is then given by the following formula : \n",
    "\n",
    "$$ \\begin{array}{ccl}\n",
    "\\hat{c} &=& argmax_{e \\in \\{-1,1\\}^n}<U_Ae, (U_A 1)^{\\perp}>\\\\\n",
    "&=& \\mbox{sign}(u_1^T1u_2 - u_2^T1u_1)\n",
    "\\end{array}$$\n",
    "\n",
    "This method of estimation, contrary to K-means, is deterministic and only based on the geometric property of $U_A$."
   ]
  },
  {
   "cell_type": "code",
   "execution_count": 124,
   "metadata": {},
   "outputs": [
    {
     "name": "stdout",
     "output_type": "stream",
     "text": [
      "Normalized Mutual Score of AEP estimate: 0.6642\n"
     ]
    }
   ],
   "source": [
    "def U_from_laplacian_regularized(A, k=2, tau = 0.001):\n",
    "    Eig, D = eig_laplacian_regularized(A, k=2, tau=tau)\n",
    "    return np.dot(D,Eig[1])\n",
    "\n",
    "\n",
    "# Test: Compute the prediction using the formula above\n",
    "graph = Graph_Model(n = n, lambda_n = lambda_n, r = r, w1=w1, w2=w2, gamma=gamma, pi=-1)\n",
    "U_A = U_from_laplacian_regularized(graph.adjency_matrix, 2, tau = tau)\n",
    "c_pred = np.dot(U_A[:,0].T, np.ones(n)) * U_A[:,1] -  np.dot(U_A[:,1].T, np.ones(n)) * U_A[:,0]\n",
    "c_pred = np.sign(c_pred)\n",
    "\n",
    "print('Normalized Mutual Score of AEP estimate: {:.4f}'.format(graph.NMI(c_pred)))"
   ]
  },
  {
   "cell_type": "code",
   "execution_count": 125,
   "metadata": {},
   "outputs": [
    {
     "name": "stderr",
     "output_type": "stream",
     "text": [
      "Widget Javascript not detected.  It may not be installed or enabled properly.\n"
     ]
    },
    {
     "data": {
      "application/vnd.jupyter.widget-view+json": {
       "model_id": "5a3b03a26a0348d295aa5f3bc20665ee"
      }
     },
     "metadata": {},
     "output_type": "display_data"
    },
    {
     "data": {
      "image/png": "[encoded data removed]",
      "text/plain": [
       "<matplotlib.figure.Figure at 0x125385160>"
      ]
     },
     "metadata": {},
     "output_type": "display_data"
    }
   ],
   "source": [
    "# Plot of the 2D projection \n",
    "\n",
    "def get_expected_adjency_matrix(it=100):\n",
    "    E_A = Graph_Model(n = n, lambda_n = lambda_n, r = r, w1=w1, w2=w2, gamma=gamma, pi=-1).adjency_matrix\n",
    "    for i in tqdm.tqdm_notebook(range(1,it)):\n",
    "        E_A += Graph_Model(n = n, lambda_n = lambda_n, r = r, w1=w1, w2=w2, gamma=gamma, pi=-1).adjency_matrix\n",
    "    E_A /= it\n",
    "    return E_A\n",
    "\n",
    "def get_points(U):\n",
    "\n",
    "    c_pred = np.dot(U[:,0].T, np.ones(len(U))) * U[:,1] -  np.dot(U[:,1].T, np.ones(len(U))) * U[:,0]\n",
    "    c_pred = np.sign(c_pred)\n",
    "    \n",
    "    constant_pos = np.dot(U.T,[1]*len(U))\n",
    "    constant_neg = np.dot(U.T,[-1]*len(U))\n",
    "\n",
    "    pred_pos = np.dot(U.T,c_pred)\n",
    "    pred_neg = np.dot(U.T,np.multiply(c_pred,-1))\n",
    "    \n",
    "    return np.array([constant_pos, constant_neg, pred_pos, pred_neg])\n",
    "\n",
    "\n",
    "E_A = get_expected_adjency_matrix()\n",
    "U_EA = U_from_laplacian_regularized(E_A, 2, tau = tau)\n",
    "\n",
    "points_EA = get_points(U_EA)\n",
    "points_A = get_points(U_A)\n",
    "\n",
    "plt.figure(figsize=(8,8))\n",
    "plt.title('Projection of the cube $[-1,1]^n$. \\n Blue correspond to the projection onto eigenvectors of $\\mathbb{E}(A)$\\\n",
    " and Red onto the ones of A. ')\n",
    "for i,points in enumerate([points_EA, points_A]):\n",
    "    c = ['b','r'][i]\n",
    "\n",
    "    plt.scatter(points[:,0], points[:,1], color= [c,c,c,c])\n",
    "    plt.plot(points[[1,2],0],points[[1,2],1], color=c)\n",
    "    plt.plot(points[[1,3],0],points[[1,3],1], color=c)\n",
    "    plt.plot(points[[0,2],0],points[[0,2],1], color=c)\n",
    "    plt.plot(points[[0,3],0],points[[0,3],1], color=c)\n",
    "\n",
    "plt.show()"
   ]
  },
  {
   "cell_type": "markdown",
   "metadata": {},
   "source": [
    "As a remark, the next strategy will be the Extreme Points without Approximation. One will remark that the projection using AEP isn't as good as with EP"
   ]
  },
  {
   "cell_type": "code",
   "execution_count": 126,
   "metadata": {},
   "outputs": [],
   "source": [
    "def AEP_prediction(adjency_matrix):\n",
    "    U_A = U_from_laplacian_regularized(adjency_matrix, 2, tau = tau)\n",
    "    c_pred = np.dot(U_A[:,0].T, np.ones(len(adjency_matrix))) * U_A[:,1] -  np.dot(U_A[:,1].T, np.ones(len(adjency_matrix))) * U_A[:,0]\n",
    "    c_pred = np.sign(c_pred)\n",
    "    return c_pred"
   ]
  },
  {
   "cell_type": "code",
   "execution_count": 127,
   "metadata": {},
   "outputs": [
    {
     "name": "stderr",
     "output_type": "stream",
     "text": [
      "Widget Javascript not detected.  It may not be installed or enabled properly.\n"
     ]
    },
    {
     "data": {
      "application/vnd.jupyter.widget-view+json": {
       "model_id": "a0103f5c45244a2ba23eff09a5e1c86a"
      }
     },
     "metadata": {},
     "output_type": "display_data"
    },
    {
     "data": {
      "image/png": "[encoded data removed]",
      "text/plain": [
       "<matplotlib.figure.Figure at 0x12537a320>"
      ]
     },
     "metadata": {},
     "output_type": "display_data"
    }
   ],
   "source": [
    "NMI_values = []\n",
    "for i in tqdm.tqdm_notebook(range(100)):\n",
    "    graph = Graph_Model(n = n, lambda_n = lambda_n, r = r, w1=w1, w2=w2, gamma=gamma, pi=pi)  #DCSBM\n",
    "    AEP_pred = AEP_prediction(graph.adjency_matrix)\n",
    "    NMI_values.append(graph.NMI(AEP_pred))\n",
    "\n",
    "plt.boxplot(NMI_values)\n",
    "plt.show()"
   ]
  },
  {
   "cell_type": "markdown",
   "metadata": {},
   "source": [
    "#### C. Extreme Points (EP)\n",
    "\n",
    "Applying theorem 2.2, the authors of [1] showed that\n",
    "\n",
    "**Theorem 3.1** :\n",
    "\n",
    "Let A be the adjency matrix genereated from the DCSBM with $\\lambda_n$ growing at least as $\\log^2n$ as $n \\to \\inf$.\n",
    "Let $U_A$ be an approximation of $U_{\\mathbb{E}(A)}$ abd e* the label vector with $f_A = Q_{DC}$.\n",
    "Then for any $\\delta \\in (0,1)$, there exists a constant $M=M(r, w, \\pi, \\xi, \\delta) > 0$ such that with proba at least $1- \\delta$, we have : \n",
    "\n",
    "$$ \\frac{1}{n}||c - e^*||^2 \\leq M \\log n \\left( \\lambda_n^{-1/2} + || U_A -  U_{\\mathbb{E}(A)}||\\right)$$\n",
    "\n",
    "In particular, if $U_A$ is a matrix whose row vectors are leading eigenvectors of A, then the fraction of mis-clustered nodes is bounded by $M \\frac{ \\log n}{\\sqrt{\\lambda_n}}$\n",
    "\n",
    "\n",
    "**Theorem 3.2** :\n",
    "\n",
    "Let A be the adjency matrix genereated from the SBM with $\\lambda_n$ growing at least as $\\log^2n$ as $n \\to \\inf$.\n",
    "Let $U_A$ be an approximation of $U_{\\mathbb{E}(A)}$ abd e* the label vector with $f_A = Q_{BM}$.\n",
    "Then for any $\\delta \\in (0,1)$, there exists a constant $M=M(r, w, \\pi, \\xi, \\delta) > 0$ such that with proba at least $1- n^{-\\delta}$, we have : \n",
    "\n",
    "$$ \\frac{1}{n}||c - e^*||^2 \\leq M \\log n \\left( \\lambda_n^{-1/2} + || U_A -  U_{\\mathbb{E}(A)}||\\right)$$\n",
    "\n",
    "In particular, if $U_A$ is a matrix whose row vectors are leading eigenvectors of A, then the fraction of mis-clustered nodes is bounded by $M \\frac{ \\log n}{\\sqrt{\\lambda_n}}$\n",
    "\n",
    "In practice, for the specific case of 2 communities : \n",
    "\n",
    "1. use $(D^{1/2}u_1, D^{1/2}u_2)$  to compute the $U_A$ matrix (Similarly to AEP)\n",
    "2. Sort angles between columns vector of $U_A$ and the $x$-axis."
   ]
  },
  {
   "cell_type": "code",
   "execution_count": 17,
   "metadata": {},
   "outputs": [],
   "source": [
    "# Functions used to find the vertices of the projection\n",
    "\n",
    "def Uvertices(U):\n",
    "    \"\"\" Returns the list of projection vertices \"\"\"\n",
    "        \n",
    "    col_vect = np.concatenate((U, -U), axis=0)\n",
    "    \n",
    "    # sort the angles between column vectors and x-axis\n",
    "    angles_ = [phase(complex(vec[0], vec[1])) for vec in col_vect]\n",
    "    angles_ = [ang if ang>0 else 2*np.pi+ang for ang in angles_]\n",
    "    indices = np.argsort(angles_)\n",
    "    \n",
    "    # vertex with smallest y coordinate\n",
    "    ys = U[:,1]\n",
    "    vert = np.dot(U.T, -np.sign(ys))\n",
    "    \n",
    "    True_vect = [-np.sign(ys)]  # vectors whose projections are vertices\n",
    "    proj = [vert]  # projections in 2D\n",
    "    \n",
    "    for index in indices:  # iteratively find the vertices of the space projection\n",
    "        index %= len(U)\n",
    "        new_vec = np.copy(True_vect[-1])\n",
    "        new_vec[index] *= -1  # modify the corrsponding element\n",
    "        True_vect.append(new_vec)\n",
    "        proj.append(np.dot(U.T, new_vec))\n",
    "\n",
    "    return True_vect[:-1], np.array(proj[:-1])"
   ]
  },
  {
   "cell_type": "code",
   "execution_count": 18,
   "metadata": {},
   "outputs": [
    {
     "data": {
      "image/png": "[encoded data removed]",
      "text/plain": [
       "<matplotlib.figure.Figure at 0x121f6a1d0>"
      ]
     },
     "metadata": {},
     "output_type": "display_data"
    }
   ],
   "source": [
    "True_vect, proj = Uvertices(U_A[:50])\n",
    "\n",
    "plt.figure(figsize=(8,8))\n",
    "plt.scatter(proj[:,0], proj[:,1], color= 'b')\n",
    "for i in range(len(proj)-1):\n",
    "    plt.plot(proj[[i,i+1],0],proj[[i,i+1],1], color='r')\n",
    "plt.plot(proj[[-1,0],0],proj[[-1,0],1], color='r')\n",
    "    \n",
    "plt.show()"
   ]
  },
  {
   "cell_type": "code",
   "execution_count": 19,
   "metadata": {
    "scrolled": true
   },
   "outputs": [],
   "source": [
    "def EP_prediction(adjency_matrix, func):\n",
    "    U_A = U_from_laplacian_regularized(adjency_matrix, 2, tau = tau)\n",
    "    True_vect, proj = Uvertices(U_A)\n",
    "    obj = Parallel(n_jobs=multiprocessing.cpu_count())(delayed(func)(vect) for vect in True_vect)\n",
    "    return True_vect[np.argmax(obj)]"
   ]
  },
  {
   "cell_type": "code",
   "execution_count": 20,
   "metadata": {},
   "outputs": [
    {
     "name": "stderr",
     "output_type": "stream",
     "text": [
      "Widget Javascript not detected.  It may not be installed or enabled properly.\n"
     ]
    },
    {
     "data": {
      "application/vnd.jupyter.widget-view+json": {
       "model_id": "a5cdb82e7ba24d048b07ac0aff4a8b10"
      }
     },
     "metadata": {},
     "output_type": "display_data"
    },
    {
     "name": "stdout",
     "output_type": "stream",
     "text": [
      "\n"
     ]
    },
    {
     "data": {
      "image/png": "[encoded data removed]",
      "text/plain": [
       "<matplotlib.figure.Figure at 0x1247fe390>"
      ]
     },
     "metadata": {},
     "output_type": "display_data"
    }
   ],
   "source": [
    "NMI_values = []\n",
    "for i in tqdm.tqdm_notebook(range(100)):\n",
    "    graph = Graph_Model(n = n, lambda_n = lambda_n, r = r, w1=w1, w2=w2, gamma=gamma, pi=pi)  #DCSBM\n",
    "    EP_pred = EP_prediction(graph.adjency_matrix, lambda e: graph.dcsbm_proflikelihood(e))\n",
    "    NMI_values.append(graph.NMI(EP_pred))\n",
    "    \n",
    "plt.boxplot(NMI_values)\n",
    "plt.show()"
   ]
  },
  {
   "cell_type": "markdown",
   "metadata": {},
   "source": [
    "#### D. Unconditional Pseudo Likelihood (UPL)\n",
    "\n",
    "\n",
    "In order to understand the procedure behind the Unconditional Pseudo Likelihood, one is invited to look a the paper *PSEUDO-LIKELIHOOD METHODS FOR COMMUNITY DETECTION IN LARGE SPARSE NETWORKS* by A. Amini *et al* (https://arxiv.org/pdf/1207.2340.pdf) from where we got inspired so as to implement the procedure (based on a standard EM algorithm). The optimization of UPL will be used in comparison with methods when the underlying graph model is the SBM.\n",
    "\n",
    "First, let's introduce the following notations :\n",
    "\n",
    "- The node degree $d_i = \\sum_k b_{ik}$\n",
    "- $b_{ik} = \\sum_j A_{ij}I(e_j=k)$ is the number of edges from node $i$ to community $k$ \n",
    "- The estimated labeling vector $e = (e_1, ..., e_n)$.\n",
    "- The actual community vector $c = (c_1, ..., c_n)$.\n",
    "- $R_{ka}=\\frac{1}{n} \\sum_{i=1}^{n} I(e_i=k, c_i=a)$ and $R=(R_{ka})_{1\\leq k, a\\leq K}$ with $K$ the number of communities (assumed to be equal to $2$).\n",
    "- $\\lambda_{lk} = n R_{k\\cdot}P_{\\cdot l}$ with $P$ the probability matrix of the SBM.\n",
    "- $\\lambda_k=\\sum_k \\lambda_{lk}$\n",
    "- $n_k(e) = \\sum_{i=1}^n I(e_i=k)$, $n_{kl}(e)=n_k(e)n_l(e)$ if $k\\neq l$ and $n_{kk}(e)=n_k(e)(n_k(e)-1)$.\n",
    "\n",
    "\n",
    "where the notation $A_{k\\cdot}$ indicates the $k^{th}$ row of the matrix $A$ and $A_{\\cdot l}$ its $l^{th}$ column.\n",
    "\n",
    "Then, the Unconditional pseudo log-likelihood is given by: \n",
    "\n",
    "$$ \\begin{array}{ccl}\n",
    "l_{UPL}(\\pi, \\theta,(b_i)) & = & \\sum_{i=1}^{n} \\log\\left( \\sum_{l=1}^{K} \\pi_l e^{-\\lambda_l}\\prod_{k=1}^{K} \\lambda_{lk}^{b_{ik}} \\right) \\\\\n",
    " & = & \\sum_{i=1}^{n} \\log\\left( \\sum_{l=1}^{2} \\pi_l e^{-\\lambda_l} \\prod_{k=1}^{2} \\lambda_{lk}^{b_{ik}} \\right)\\\\\n",
    " & = & \\sum_{i=1}^{n} \\log\\left(\\pi_1 e^{-\\lambda_1} \\lambda_{11}^{b_{i1}}\\lambda_{12}^{b_{i2}} + \\pi_2 e^{-\\lambda_2}\\lambda_{21}^{b_{i1}}\\lambda_{22}^{b_{i2}} \\right)\n",
    "\\end{array} $$\n",
    "\n",
    "The UPL algorithm optimizing the previous quantity, based on an EM algorithm for mixture models, is then as follows: \n",
    "\n",
    "- First, initialize $e = (e_1, ..., e_n)$ as the output of SCR and take $\\hat{\\pi}_l=\\frac{n_l}{n}$, $\\hat{R}=diag(\\hat{\\pi}_1,...,\\hat{\\pi}_K)$, $\\hat{P}_{lk}=\\frac{O_{lk}}{n_{lk}}$, $\\hat{\\lambda}_{lk} = n \\hat{R}_{k\\cdot}\\hat{P}_{\\cdot l}$.\n",
    "\n",
    "- Then, repeat T times:\n",
    "\n",
    "    1. compute the values$(b_{ik})$.\n",
    "    \n",
    "    2. using current estimate $\\hat{\\pi}_k$ and $\\hat{\\lambda}_{lk}$, compute: \n",
    "$$\\pi_{il} =\\frac{\\hat{\\pi_l}\\prod_{m=1}^{K} e^{b_{im}\\log(\\hat{\\lambda}_{lm})-\\hat{\\lambda}_{lm}} } {\\sum_{k=1}^{K} \\hat{\\pi_k}\\prod_{m=1}^{K}e^{b_{im}\\log(\\hat{\\lambda}_{km})-\\hat{\\lambda}_{km}}}$$\n",
    "\n",
    "    3. given probabilities : update parameters values as follow : \n",
    "$$\\hat{\\pi}_l = \\frac{1}{n} \\sum_{i=1}^{n} \\hat{\\pi}_{il}, \\quad \\hat{\\lambda}_{lk} = \\frac{\\sum_i \\hat{\\pi}_{il}b_{ik}}{\\sum_i \\hat{\\pi}_{il}}$$\n",
    "\n",
    "    4. Return to step 2 unless the parameters estimates have converged.\n",
    "    \n",
    "    5. Update labels by $e_i = argmax_l\\ \\hat{\\pi_{il}}$.\n",
    "    \n",
    "    6. Update $\\hat{P}$ as follows and return to step 1: \n",
    "$$\\hat{P}_{lk}=\\frac{\\sum_{ij}A_{ij}\\hat{\\pi}_{il} \\hat{\\pi}_{jk}}{n_{lk}(e)}$$"
   ]
  },
  {
   "cell_type": "markdown",
   "metadata": {},
   "source": [
    "#### Implementation"
   ]
  },
  {
   "cell_type": "code",
   "execution_count": 21,
   "metadata": {},
   "outputs": [],
   "source": [
    "def prod_exp(lambda_l, bi):\n",
    "    prod = 1\n",
    "    for m in range(len(lambda_l)):\n",
    "        prod = prod*np.exp(bi[m]*np.log(lambda_l[m]) - lambda_l[m] )\n",
    "    return prod\n",
    "\n",
    "def UPL_prediction(adjency_matrix, rs=37, iteration=20, epsilon=0.01):\n",
    "    SCR_pred = SCR_prediction(adjency_matrix, rs=rs)\n",
    "    \n",
    "    #Initialization of e, pu, R, P, lambda\n",
    "    e = SCR_pred\n",
    "    n = len(e)\n",
    "\n",
    "    n1 = np.sum([node==1 for node in e])\n",
    "    pi = np.array([(n-n1)/n, n1/n])\n",
    "    R = np.diag(pi)\n",
    "    P = np.zeros((2,2))\n",
    "    for l in range(2):\n",
    "        for k in range(2):\n",
    "            olk = np.sum([adjency_matrix[i,j] for i in range(n) for j in range(n) if (e[i]==2*l-1 and e[j]==2*k-1)])\n",
    "            if k==l:\n",
    "                n_k = np.sum([node_comm==2*k-1 for node_comm in e])\n",
    "                P[l,k] = olk/(n_k*(n_k-1))\n",
    "            else:\n",
    "                n_k = np.sum([node_comm==2*k-1 for node_comm in e])\n",
    "                n_l = np.sum([node_comm==2*l-1 for node_comm in e])\n",
    "                P[l,k] = olk/(n_k*n_l)\n",
    "    lambda_ = n*np.dot(R, P).T\n",
    "    \n",
    "    pi_table = np.zeros((n,2))\n",
    "    b = np.zeros((n,2))\n",
    "\n",
    "    # Repeat the EM steps\n",
    "    for iterations in range(iteration):\n",
    "        \n",
    "        #Step 1 : Compute block sum b_il\n",
    "        for i in range(n):\n",
    "            for k in range(2):\n",
    "                b[i,k] = np.sum([adjency_matrix[i,j] for j in range(n) if e[j]==2*k-1])\n",
    "\n",
    "        old_pi = [100, 100]\n",
    "        new_pi = pi\n",
    "        dist = 100\n",
    "        \n",
    "        # Until convergence\n",
    "        while dist > epsilon:\n",
    "            \n",
    "            # Step 2 : estimate probabilities for node labels, pi_table\n",
    "            for i in range(n):\n",
    "                C = pi[0] * prod_exp(lambda_[0,:], b[i,:]) + pi[1] * prod_exp(lambda_[1,:], b[i,:])\n",
    "                for l in range(2):\n",
    "                    pi_il = pi[l] * prod_exp(lambda_[l,:], b[i,:])\n",
    "                    pi_il /= C \n",
    "                    pi_table[i,l] = pi_il\n",
    "    \n",
    "            # Step 3 : Update parameters values pi and lambda_\n",
    "            for l in range(2):\n",
    "                pi[l] = np.mean(pi_table[:,l])\n",
    "                for k in range(2):\n",
    "                    lambda_[l,k] =  np.dot(pi_table[:,l].T,b[:,k]) / pi_table[:,l].sum()\n",
    "                    \n",
    "            # Step 4 : wait fo the parameters estimates to converge\n",
    "            old_pi = new_pi\n",
    "            new_pi = pi\n",
    "            dist = np.sqrt(np.sum( (new_pi - old_pi)**2 ))\n",
    "        \n",
    "        # Step 5. Update Labels e and return to step 1\n",
    "        e = np.argmax(pi_table, axis=1)*2 - 1\n",
    "        \n",
    "        if iterations < iteration - 1:\n",
    "            R = np.diag(pi)\n",
    "            P = np.zeros((2,2))\n",
    "            for l in range(2):\n",
    "                for k in range(2):\n",
    "                    olk = np.sum([adjency_matrix[i,j]*pi_table[i,l]*pi_table[j,k]\n",
    "                                  for i in range(n) for j in range(n)])\n",
    "                    if k==l:\n",
    "                        n_k = np.sum([node_comm==2*k-1 for node_comm in e])\n",
    "                        P[l,k] = olk/(n_k*(n_k-1))\n",
    "                    else:\n",
    "                        n_k = np.sum([node_comm==2*k-1 for node_comm in e])\n",
    "                        n_l = np.sum([node_comm==2*l-1 for node_comm in e])\n",
    "                        P[l,k] = olk/(n_k*n_l)\n",
    "            lambda_ = n*np.dot(R, P).T\n",
    "        \n",
    "\n",
    "    return e"
   ]
  },
  {
   "cell_type": "code",
   "execution_count": 22,
   "metadata": {},
   "outputs": [
    {
     "name": "stderr",
     "output_type": "stream",
     "text": [
      "Widget Javascript not detected.  It may not be installed or enabled properly.\n"
     ]
    },
    {
     "data": {
      "application/vnd.jupyter.widget-view+json": {
       "model_id": "8cdff00a80ef4839a3af57bd8f716257"
      }
     },
     "metadata": {},
     "output_type": "display_data"
    },
    {
     "name": "stdout",
     "output_type": "stream",
     "text": [
      "\n"
     ]
    },
    {
     "data": {
      "image/png": "[encoded data removed]",
      "text/plain": [
       "<matplotlib.figure.Figure at 0x121f2f780>"
      ]
     },
     "metadata": {},
     "output_type": "display_data"
    }
   ],
   "source": [
    "NMI_values = []\n",
    "for i in tqdm.tqdm_notebook(range(100)):\n",
    "    graph = Graph_Model(n = n, lambda_n = lambda_n, r = r, w1=w1, w2=w2, gamma=gamma, pi=pi)  #DCSBM\n",
    "    UPL_pred = UPL_prediction(graph.adjency_matrix, rs=i)\n",
    "    NMI_values.append(graph.NMI(UPL_pred))\n",
    "    \n",
    "plt.boxplot(NMI_values)\n",
    "plt.show()"
   ]
  },
  {
   "cell_type": "markdown",
   "metadata": {},
   "source": [
    "#### E. Conditional Pseudo Likelihood (CPL)"
   ]
  },
  {
   "cell_type": "markdown",
   "metadata": {},
   "source": [
    "The Conditional Pseudo Likelihood procedure is very simiral to the conditional one.\n",
    "Here we want to maximize the following (Conditional) Pseudo log likelihood instead: \n",
    "\n",
    "$$ \\begin{array}{ccl}\n",
    "l_{UPL}(\\pi, \\Lambda,(b_i)) & = & \\sum_{i=1}^{n} \\log\\left( \\sum_{l=1}^{K} \\pi_l \\prod_{k=1}^{K} \\theta_{lk}^{b_{ik}} \\right) \\\\\n",
    " & = & \\sum_{i=1}^{n} \\log\\left( \\sum_{l=1}^{2} \\pi_l \\prod_{k=1}^{2} \\theta_{lk}^{b_{ik}} \\right)\\\\\n",
    " & = & \\sum_{i=1}^{n} \\log\\left(\\pi_1 \\theta_{11}^{b_{i1}}\\theta_{12}^{b_{i2}} + \\pi_2 \\theta_{21}^{b_{i1}}\\theta_{22}^{b_{i2}} \\right)\n",
    "\\end{array} $$\n",
    "\n",
    "where $\\theta_{lk}=\\frac{\\lambda_{lk}}{\\lambda_l}$.\n",
    "\n",
    "It is the same algorithm as for UPL but we replace steps 2 and 3 by the following ones: \n",
    "\n",
    "2. Using current parameter estimatee $\\hat{\\pi}_k$ and  $\\hat{\\theta}_{lk}$, we estimates the node labels by: \n",
    "\n",
    "$$ \\hat{\\pi}_{il} = \\frac{\\hat{\\pi_l}\\prod_{m=1}^{K} \\hat{\\theta}_{lm}^{b_{im}}}{\\sum_{k=1}^{K} \\hat{\\pi_k}\\prod_{m=1}^{K}\\hat{\\theta}_{km}^{b_{im}}}$$\n",
    "\n",
    "3. Given label probabilities, we update the parameter values by : \n",
    "\n",
    "$$\\hat{\\pi}_l = \\frac{1}{n} \\sum_{i=1}^{n} \\hat{\\pi}_{il}$$\n",
    "\n",
    "$$\\hat{\\lambda}_{lk} = \\frac{\\sum_i \\hat{\\pi}_{il}b_{ik}}{\\sum_i \\hat{\\pi}_{il}d_i}$$\n",
    "\n",
    "Other steps remain the exactly the sames."
   ]
  },
  {
   "cell_type": "code",
   "execution_count": 23,
   "metadata": {},
   "outputs": [],
   "source": [
    "def prod_exp2(vector, exp):\n",
    "    prod = 1\n",
    "    for i in range(len(vector)):\n",
    "        prod = prod*(vector[i]**exp[i])\n",
    "    return prod\n",
    "\n",
    "\n",
    "def CPL_prediction(adjency_matrix, rs=37, iteration=20, epsilon=0.01):\n",
    "    SCR_pred = SCR_prediction(adjency_matrix, rs=rs)\n",
    "    \n",
    "    #Initialization of e, pu, R, P, lambda\n",
    "    e = SCR_pred\n",
    "    n = len(e)\n",
    "\n",
    "    n1 = np.sum([node==1 for node in e])\n",
    "    pi = np.array([(n-n1)/n, n1/n])\n",
    "    R = np.diag(pi)\n",
    "    P = np.zeros((2,2))\n",
    "    for l in range(2):\n",
    "        for k in range(2):\n",
    "            olk = np.sum([adjency_matrix[i,j] for i in range(n) for j in range(n) if (e[i]==2*l-1 and e[j]==2*k-1)])\n",
    "            if k==l:\n",
    "                n_k = np.sum([node_comm==2*k-1 for node_comm in e])\n",
    "                P[l,k] = olk/(n_k*(n_k-1))\n",
    "            else:\n",
    "                n_k = np.sum([node_comm==2*k-1 for node_comm in e])\n",
    "                n_l = np.sum([node_comm==2*l-1 for node_comm in e])\n",
    "                P[l,k] = olk/(n_k*n_l)\n",
    "    lambda_ = n*np.dot(R, P).T\n",
    "    \n",
    "    theta = np.zeros((2,2))\n",
    "    for l in range(2):\n",
    "        for k in range(2):\n",
    "            theta[l,k] = lambda_[l,k]/lambda_[l,:].sum()\n",
    "    \n",
    "    pi_table = np.zeros((n,2))\n",
    "    b = np.zeros((n,2))\n",
    "\n",
    "    # Repeat the EM steps\n",
    "    for iterations in range(iteration):\n",
    "        \n",
    "        #Step 1 : Compute block sum b_il\n",
    "        for i in range(n):\n",
    "            for k in range(2):\n",
    "                b[i,k] = np.sum([adjency_matrix[i,j] for j in range(n) if e[j]==2*k-1])\n",
    "\n",
    "        old_pi = [100, 100]\n",
    "        new_pi = pi\n",
    "        dist = 100\n",
    "        \n",
    "        # Until convergence\n",
    "        while dist > epsilon:     \n",
    "            \n",
    "            # Step 2 : estimate probabilities for node labels, pi_table\n",
    "            for i in range(n):\n",
    "                C = pi[0] * prod_exp2(theta[0,:], b[i,:])+pi[1] * prod_exp2(theta[1,:], b[i,:])\n",
    "                for l in range(2):\n",
    "                    pi_il = pi[l] * prod_exp2(theta[l,:], b[i,:])\n",
    "                    pi_il /= C \n",
    "                    pi_table[i,l] = pi_il\n",
    "    \n",
    "            # Step 3 : Update parameters values pi and lambda_\n",
    "            for l in range(2):\n",
    "                pi[l] = np.mean(pi_table[:,l])\n",
    "                for k in range(2):\n",
    "                    theta[l,k] =  np.dot(pi_table[:,l].T,b[:,k]) / np.dot(pi_table[:,l].T,np.sum(b, axis=1))\n",
    "                    \n",
    "            # Step 4 : wait fo the parameters estimates to converge\n",
    "            old_pi = new_pi\n",
    "            new_pi = pi\n",
    "            dist = np.sqrt(np.sum( (new_pi - old_pi)**2 ))\n",
    "        \n",
    "        # Step 5. Update Labels e and return to step 1\n",
    "        e = np.argmax(pi_table, axis=1)*2 - 1\n",
    "        \n",
    "        if iterations < iteration - 1:\n",
    "            R = np.diag(pi)\n",
    "            P = np.zeros((2,2))\n",
    "            for l in range(2):\n",
    "                for k in range(2):\n",
    "                    olk = np.sum([adjency_matrix[i,j]*pi_table[i,l]*pi_table[j,k]\n",
    "                                  for i in range(n) for j in range(n)])\n",
    "                    if k==l:\n",
    "                        n_k = np.sum([node_comm==2*k-1 for node_comm in e])\n",
    "                        P[l,k] = olk/(n_k*(n_k-1))\n",
    "                    else:\n",
    "                        n_k = np.sum([node_comm==2*k-1 for node_comm in e])\n",
    "                        n_l = np.sum([node_comm==2*l-1 for node_comm in e])\n",
    "                        P[l,k] = olk/(n_k*n_l)\n",
    "            lambda_ = n*np.dot(R, P).T\n",
    "            theta = np.zeros((2,2))\n",
    "            for l in range(2):\n",
    "                for k in range(2):\n",
    "                    theta[l,k] = lambda_[l,k]/lambda_[l,:].sum()\n",
    "        \n",
    "    return e"
   ]
  },
  {
   "cell_type": "code",
   "execution_count": 24,
   "metadata": {},
   "outputs": [
    {
     "name": "stderr",
     "output_type": "stream",
     "text": [
      "Widget Javascript not detected.  It may not be installed or enabled properly.\n"
     ]
    },
    {
     "data": {
      "application/vnd.jupyter.widget-view+json": {
       "model_id": "4559be55a8474650b4b24152add28a1c"
      }
     },
     "metadata": {},
     "output_type": "display_data"
    },
    {
     "name": "stdout",
     "output_type": "stream",
     "text": [
      "\n"
     ]
    },
    {
     "data": {
      "image/png": "[encoded data removed]",
      "text/plain": [
       "<matplotlib.figure.Figure at 0x121f95cf8>"
      ]
     },
     "metadata": {},
     "output_type": "display_data"
    }
   ],
   "source": [
    "NMI_values = []\n",
    "for i in tqdm.tqdm_notebook(range(100)):\n",
    "    graph = Graph_Model(n = n, lambda_n = lambda_n, r = r, w1=w1, w2=w2, gamma=0, pi=pi)  #SBM\n",
    "    CPL_pred = CPL_prediction(graph.adjency_matrix, rs=i)\n",
    "    NMI_values.append(graph.NMI(CPL_pred))\n",
    "    \n",
    "plt.boxplot(NMI_values)\n",
    "plt.show()"
   ]
  },
  {
   "cell_type": "markdown",
   "metadata": {},
   "source": [
    "#### F. SDP optimization (SDP)"
   ]
  },
  {
   "cell_type": "code",
   "execution_count": 25,
   "metadata": {},
   "outputs": [
    {
     "name": "stdout",
     "output_type": "stream",
     "text": [
      "['ECOS', 'ECOS_BB', 'CVXOPT', 'GLPK', 'GLPK_MI', 'SCS', 'OSQP']\n"
     ]
    }
   ],
   "source": [
    "from cvxpy import *\n",
    "print(installed_solvers())\n",
    "\n",
    "def SDP_prediction(adjency_matrix):  \n",
    "    u, v = adjency_matrix.shape\n",
    "    dia = np.diag_indices(u) # indices of diagonal elements\n",
    "    dia_sum = sum(adjency_matrix[dia]) # sum of diagonal elements\n",
    "    lambda_ = (np.sum(adjency_matrix) - dia_sum) / (u * (u-1)) # average degree of the graph \n",
    "    \n",
    "    Z = Variable((u, v), PSD=True)\n",
    "    obj = Maximize(\n",
    "        trace(\n",
    "            matmul(Z.T,\n",
    "                   adjency_matrix-lambda_*np.ones((u,v)))\n",
    "        )\n",
    "    )\n",
    "    constraints = [diag(Z)<=1]\n",
    "    \n",
    "    prob = Problem(obj, constraints)\n",
    "    prob.solve(solver=SCS)\n",
    "    if prob.status != 'optimal':\n",
    "        print('CVXPY failed to reach optimal value')\n",
    "        \n",
    "    return np.sign(eigsh(Z.value, 1, which='LM')[1].T[0])"
   ]
  },
  {
   "cell_type": "code",
   "execution_count": 26,
   "metadata": {},
   "outputs": [
    {
     "name": "stderr",
     "output_type": "stream",
     "text": [
      "Widget Javascript not detected.  It may not be installed or enabled properly.\n"
     ]
    },
    {
     "data": {
      "application/vnd.jupyter.widget-view+json": {
       "model_id": "ca9620d5412843488b34b432ea5f7959"
      }
     },
     "metadata": {},
     "output_type": "display_data"
    },
    {
     "name": "stdout",
     "output_type": "stream",
     "text": [
      "\n"
     ]
    },
    {
     "data": {
      "image/png": "[encoded data removed]",
      "text/plain": [
       "<matplotlib.figure.Figure at 0x121d1f358>"
      ]
     },
     "metadata": {},
     "output_type": "display_data"
    }
   ],
   "source": [
    "NMI_values = []\n",
    "for i in tqdm.tqdm_notebook(range(100)):\n",
    "    graph = Graph_Model(n = n, lambda_n = lambda_n, r = r, w1=w1, w2=w2, gamma=0, pi=pi)  #SBM\n",
    "    SDP_pred = SDP_prediction(graph.adjency_matrix)\n",
    "    NMI_values.append(graph.NMI(SDP_pred))\n",
    "    \n",
    "plt.boxplot(NMI_values)\n",
    "plt.show()"
   ]
  },
  {
   "cell_type": "markdown",
   "metadata": {},
   "source": [
    "### Numerical comparaison of the different procedures"
   ]
  },
  {
   "cell_type": "markdown",
   "metadata": {},
   "source": [
    "#### The stochastic block model"
   ]
  },
  {
   "cell_type": "code",
   "execution_count": 27,
   "metadata": {},
   "outputs": [
    {
     "name": "stderr",
     "output_type": "stream",
     "text": [
      "Widget Javascript not detected.  It may not be installed or enabled properly.\n"
     ]
    },
    {
     "data": {
      "application/vnd.jupyter.widget-view+json": {
       "model_id": "378abe2b630e4de5a5130d087b8a367c"
      }
     },
     "metadata": {},
     "output_type": "display_data"
    },
    {
     "name": "stdout",
     "output_type": "stream",
     "text": [
      "\n"
     ]
    }
   ],
   "source": [
    "SCR_values = []\n",
    "AEP_values = []\n",
    "EP_values = []\n",
    "CPL_values = []\n",
    "SDP_values = []\n",
    "\n",
    "for i in tqdm.tqdm_notebook(range(50)):\n",
    "    \n",
    "    graph = Graph_Model(n = n, lambda_n = lambda_n, r = r, w1=w1, w2=w2, gamma=0, pi=pi)  #SBM\n",
    "\n",
    "    #SCR\n",
    "    SCR_pred = SCR_prediction(graph.adjency_matrix, rs=i)\n",
    "    SCR_values.append(graph.NMI(SCR_pred))\n",
    "\n",
    "    #AEP\n",
    "    AEP_pred = AEP_prediction(graph.adjency_matrix)\n",
    "    AEP_values.append(graph.NMI(AEP_pred))\n",
    "\n",
    "    #EP\n",
    "    EP_pred = EP_prediction(graph.adjency_matrix, lambda e: graph.sbm_proflikelihood(e))\n",
    "    EP_values.append(graph.NMI(EP_pred))\n",
    "    \n",
    "    #CPL\n",
    "    CPL_pred = CPL_prediction(graph.adjency_matrix, rs=i)\n",
    "    CPL_values.append(graph.NMI(CPL_pred))\n",
    "    \n",
    "    #SDP\n",
    "    SDP_pred = SDP_prediction(graph.adjency_matrix)\n",
    "    SDP_values.append(graph.NMI(SDP_pred))"
   ]
  },
  {
   "cell_type": "code",
   "execution_count": 28,
   "metadata": {},
   "outputs": [
    {
     "data": {
      "image/png": "[encoded data removed]",
      "text/plain": [
       "<matplotlib.figure.Figure at 0x121b25e48>"
      ]
     },
     "metadata": {},
     "output_type": "display_data"
    }
   ],
   "source": [
    "plt.boxplot([SCR_values,AEP_values,EP_values,CPL_values,SDP_values])\n",
    "plt.title('SBM: Boxplots of NMI between true and estimated labels')\n",
    "plt.xticks([1, 2, 3, 4, 5], ['SCR', 'AEP', 'EP', 'CPL', 'SDP'])\n",
    "plt.show()"
   ]
  },
  {
   "cell_type": "markdown",
   "metadata": {},
   "source": [
    "#### The degree-corrected stochastic block model"
   ]
  },
  {
   "cell_type": "code",
   "execution_count": 29,
   "metadata": {},
   "outputs": [
    {
     "name": "stderr",
     "output_type": "stream",
     "text": [
      "Widget Javascript not detected.  It may not be installed or enabled properly.\n"
     ]
    },
    {
     "data": {
      "application/vnd.jupyter.widget-view+json": {
       "model_id": "945be52425e743e0919bad65ac9eba92"
      }
     },
     "metadata": {},
     "output_type": "display_data"
    },
    {
     "name": "stdout",
     "output_type": "stream",
     "text": [
      "\n"
     ]
    }
   ],
   "source": [
    "SCR_values = []\n",
    "AEP_values = []\n",
    "EP_values = []\n",
    "UPL_values = []\n",
    "SDP_values = []\n",
    "\n",
    "for i in tqdm.tqdm_notebook(range(50)):\n",
    "    \n",
    "    graph = Graph_Model(n = n, lambda_n = lambda_n, r = r, w1=w1, w2=w2, gamma=gamma, pi=pi)  #DCSBM\n",
    "\n",
    "    #SCR\n",
    "    SCR_pred = SCR_prediction(graph.adjency_matrix, rs=i)\n",
    "    SCR_values.append(graph.NMI(SCR_pred))\n",
    "\n",
    "    #AEP\n",
    "    AEP_pred = AEP_prediction(graph.adjency_matrix)\n",
    "    AEP_values.append(graph.NMI(AEP_pred))\n",
    "\n",
    "    #EP\n",
    "    EP_pred = EP_prediction(graph.adjency_matrix, lambda e: graph.sbm_proflikelihood(e))\n",
    "    EP_values.append(graph.NMI(EP_pred))\n",
    "    \n",
    "    #UPL\n",
    "    UPL_pred = UPL_prediction(graph.adjency_matrix, rs=i)\n",
    "    UPL_values.append(graph.NMI(UPL_pred))\n",
    "    \n",
    "    #SDP\n",
    "    SDP_pred = SDP_prediction(graph.adjency_matrix)\n",
    "    SDP_values.append(graph.NMI(SDP_pred))"
   ]
  },
  {
   "cell_type": "code",
   "execution_count": 30,
   "metadata": {},
   "outputs": [
    {
     "data": {
      "image/png": "[encoded data removed]",
      "text/plain": [
       "<matplotlib.figure.Figure at 0x125575c18>"
      ]
     },
     "metadata": {},
     "output_type": "display_data"
    }
   ],
   "source": [
    "plt.boxplot([SCR_values,AEP_values,EP_values,UPL_values,SDP_values])\n",
    "plt.title('DCSMB : Boxplots of NMI between true and estimated labels')\n",
    "plt.xticks([1, 2, 3, 4, 5], ['SCR', 'AEP', 'EP', 'UPL', 'SDP'])\n",
    "plt.show()"
   ]
  },
  {
   "cell_type": "markdown",
   "metadata": {},
   "source": [
    "#### Impact of the out-in probability ratio r on the performance"
   ]
  },
  {
   "cell_type": "code",
   "execution_count": 31,
   "metadata": {
    "scrolled": true
   },
   "outputs": [
    {
     "name": "stderr",
     "output_type": "stream",
     "text": [
      "Widget Javascript not detected.  It may not be installed or enabled properly.\n"
     ]
    },
    {
     "data": {
      "application/vnd.jupyter.widget-view+json": {
       "model_id": "542dad142a0247e99121d7f130140781"
      }
     },
     "metadata": {},
     "output_type": "display_data"
    },
    {
     "name": "stdout",
     "output_type": "stream",
     "text": [
      "\n"
     ]
    }
   ],
   "source": [
    "SCR_plt = []\n",
    "AEP_plt = []\n",
    "EP_plt = []\n",
    "UPL_plt = []\n",
    "SDP_plt = []\n",
    "\n",
    "for r_test in  tqdm.tqdm_notebook(range(0,45,5)):\n",
    "    \n",
    "    r_test/=100\n",
    "    \n",
    "    SCR_r = []\n",
    "    AEP_r = []\n",
    "    EP_r = []\n",
    "    UPL_r = []\n",
    "    SDP_r = []\n",
    "\n",
    "    for i in range(10):\n",
    "\n",
    "        graph = Graph_Model(n = n, lambda_n = lambda_n, r = r_test, w1=w1, w2=w2, gamma=gamma, pi=pi)  #DCSBM\n",
    "\n",
    "        #SCR\n",
    "        SCR_pred = SCR_prediction(graph.adjency_matrix, rs=i)\n",
    "        SCR_r.append(graph.NMI(SCR_pred))\n",
    "\n",
    "        #AEP\n",
    "        AEP_pred = AEP_prediction(graph.adjency_matrix)\n",
    "        AEP_r.append(graph.NMI(AEP_pred))\n",
    "\n",
    "        #EP\n",
    "        EP_pred = EP_prediction(graph.adjency_matrix, lambda e: graph.sbm_proflikelihood(e))\n",
    "        EP_r.append(graph.NMI(EP_pred))\n",
    "\n",
    "        #CPL\n",
    "        UPL_pred = UPL_prediction(graph.adjency_matrix, rs=i)\n",
    "        UPL_r.append(graph.NMI(UPL_pred))\n",
    "\n",
    "        #SDP\n",
    "        SDP_pred = SDP_prediction(graph.adjency_matrix)\n",
    "        SDP_r.append(graph.NMI(SDP_pred))\n",
    "    \n",
    "    SCR_plt.append(np.mean(SCR_r))\n",
    "    AEP_plt.append(np.mean(AEP_r))\n",
    "    EP_plt.append(np.mean(EP_r))\n",
    "    UPL_plt.append(np.mean(UPL_r))\n",
    "    SDP_plt.append(np.mean(SDP_r))"
   ]
  },
  {
   "cell_type": "code",
   "execution_count": 39,
   "metadata": {},
   "outputs": [
    {
     "data": {
      "image/png": "[encoded data removed]",
      "text/plain": [
       "<matplotlib.figure.Figure at 0x12487c5c0>"
      ]
     },
     "metadata": {},
     "output_type": "display_data"
    }
   ],
   "source": [
    "plt.figure(figsize=(10,5))\n",
    "plt.ylim(0.4,1.01)\n",
    "xaxis = [i/100 for i in range(0,45,5)]\n",
    "\n",
    "plt.plot( xaxis, SCR_plt, color = 'b', label = 'SCR')\n",
    "plt.plot(xaxis, AEP_plt, color = 'r', label = 'AEP')\n",
    "plt.plot(xaxis, EP_plt, color = 'maroon', label = 'EP')\n",
    "plt.plot(xaxis[1:], UPL_plt[1:], color = 'y', label = 'UPL')  # UPL doesn't work with r=0\n",
    "plt.plot(xaxis, SDP_plt, color = 'g', label = 'SDP')\n",
    "\n",
    "plt.legend()\n",
    "plt.title('DCSBM : Average NMI against out-in probability ration r ')\n",
    "plt.ylim((0, 1))\n",
    "plt.show()"
   ]
  },
  {
   "cell_type": "markdown",
   "metadata": {},
   "source": [
    "## 6. Real-word network Data : PolBlogs"
   ]
  },
  {
   "cell_type": "markdown",
   "metadata": {},
   "source": [
    "As proposed in the paper, the differents methods have been applied to a real-word network dataset. This network, *polblogs*, is composed of blogs about the US politics and hyperlinks between blog."
   ]
  },
  {
   "cell_type": "code",
   "execution_count": 56,
   "metadata": {
    "scrolled": true
   },
   "outputs": [],
   "source": [
    "import networkx as nx\n",
    "import zipfile\n",
    "\n",
    "s = r'./polblogs.zip'\n",
    "zf = zipfile.ZipFile(s) \n",
    "txt = zf.read('polblogs/polblogs.txt').decode() \n",
    "gml = zf.read('polblogs/polblogs.gml').decode()  \n",
    "\n",
    "gml = gml.split('\\n')[1:]\n",
    "gml.insert(2, \"  multigraph 1\")\n",
    "\n",
    "G = nx.parse_gml(gml) \n",
    "G=G.to_undirected()"
   ]
  },
  {
   "cell_type": "code",
   "execution_count": 57,
   "metadata": {},
   "outputs": [
    {
     "name": "stdout",
     "output_type": "stream",
     "text": [
      "Political blogosphere Feb. 2005\n",
      "Data compiled by Lada Adamic and Natalie Glance\n",
      "\n",
      "Node \"value\" attributes indicate political leaning according to:\n",
      "\n",
      "  0 (left or liberal)\n",
      "  1 (right or conservative)\n",
      "\n",
      "Data on political leaning comes from blog directories as indicated.  Some\n",
      "blogs were labeled manually, based on incoming and outgoing links and posts\n",
      "around the time of the 2004 presidential election.  Directory-derived\n",
      "labels are prone to error; manual labels even more so.\n",
      "\n",
      "Links between blogs were automatically extracted from a crawl of the front\n",
      "page of the blog.\n",
      "\n",
      "These data should be cited as Lada A. Adamic and Natalie Glance, \"The\n",
      "political blogosphere and the 2004 US Election\", in Proceedings of the\n",
      "WWW-2005 Workshop on the Weblogging Ecosystem (2005).\n",
      "\n"
     ]
    }
   ],
   "source": [
    "print(txt)"
   ]
  },
  {
   "cell_type": "markdown",
   "metadata": {},
   "source": [
    "This is a two-communities network whose labels we aim at recovering using optimization of different criteria we implemented earlier in the notebook. It is indeed interesting to go beyond the classifical framework of generated random graph and see how those differents react on a real-world graph data. \n",
    "\n",
    "To reproduce excatly the experiments from the paper, we'll follow the same step : first we ignore hyperlinks by keeping only the largest connected component of the network composed of 1222 nodes (this is accessible via the command *nx.connected_component_subgraphs*)"
   ]
  },
  {
   "cell_type": "code",
   "execution_count": 75,
   "metadata": {},
   "outputs": [
    {
     "data": {
      "text/plain": [
       "<networkx.classes.multigraph.MultiGraph at 0x1223b9f60>"
      ]
     },
     "execution_count": 75,
     "metadata": {},
     "output_type": "execute_result"
    }
   ],
   "source": [
    "a = nx.connected_component_subgraphs(G)\n",
    "a = next(a)"
   ]
  },
  {
   "cell_type": "code",
   "execution_count": 89,
   "metadata": {},
   "outputs": [
    {
     "name": "stdout",
     "output_type": "stream",
     "text": [
      "268\n",
      "1222\n"
     ]
    }
   ],
   "source": [
    "G_ = list(nx.connected_component_subgraphs(G))\n",
    "print(len(G_))\n",
    "\n",
    "Gc = list(nx.connected_component_subgraphs(G))[np.argmax([x.size() for x in G_])]\n",
    "print(len(Gc.nodes()))"
   ]
  },
  {
   "cell_type": "markdown",
   "metadata": {},
   "source": [
    "### Representation of the polblogs network."
   ]
  },
  {
   "cell_type": "code",
   "execution_count": 109,
   "metadata": {},
   "outputs": [
    {
     "data": {
      "image/png": "[encoded data removed]",
      "text/plain": [
       "<matplotlib.figure.Figure at 0x12552ff28>"
      ]
     },
     "metadata": {},
     "output_type": "display_data"
    }
   ],
   "source": [
    "d = nx.degree(Gc)\n",
    "color_map = []\n",
    "for node in Gc.nodes():\n",
    "    if Gc.nodes[node]['value']==0:\n",
    "        color_map.append('blue')\n",
    "    else: color_map.append('green')     \n",
    "\n",
    "        \n",
    "dd = {}\n",
    "for key, value in d:\n",
    "    dd[key] = value\n",
    "\n",
    "options = {\n",
    "    'line_color': 'black',\n",
    "    'linewidths': 1,\n",
    "    'alpha':1 ,\n",
    "    'width':0.1,\n",
    "    # Node diamaters are proportinal to the log of node's degree.\n",
    "    'node_size': [(0.1+np.max([0,np.log(dd[node])]))*10 for node in Gc.nodes()],\n",
    "    # colors represent the two labels of communities\n",
    "    'node_color': color_map\n",
    "}\n",
    "\n",
    "# We fix the layout to have the same disposition of the nodes once and for all\n",
    "np.random.seed(1)\n",
    "fixed_layout = nx.spring_layout(Gc)\n",
    "\n",
    "plt.figure(figsize=(7,7))\n",
    "plt.title('The Network of Political Blogs')\n",
    "nx.draw(Gc, fixed_layout , **options) \n",
    "plt.show()"
   ]
  },
  {
   "cell_type": "code",
   "execution_count": 110,
   "metadata": {},
   "outputs": [],
   "source": [
    "def OKL(adjency_matrix, e, comm1, comm2):\n",
    "    '''Return the number of edges between community comm1 and comm2'''\n",
    "\n",
    "    indice_1 = [index for index, comm in enumerate(e) if comm == comm1]\n",
    "    indice_2 = [index for index, comm in enumerate(e) if comm == comm2]\n",
    "\n",
    "    return np.sum([adjency_matrix[i1, i2] for i1 in indice_1 for i2 in indice_2])\n",
    "\n",
    "def comm_effectif( e, comm):\n",
    "    return(np.sum([comm_==comm for comm_ in e]))\n",
    "\n",
    "def sbm_prof_like(adjacency_matrix, e):\n",
    "    qbm = 0\n",
    "    communities = set(e)\n",
    "    for i in communities:\n",
    "        for j in communities:\n",
    "            qbm += OKL(adjacency_matrix, e,i,j)*np.log(OKL(adjacency_matrix, e,i,j)/(comm_effectif(e,i)*comm_effectif(e,i)))\n",
    "    return(qbm)"
   ]
  },
  {
   "cell_type": "code",
   "execution_count": null,
   "metadata": {},
   "outputs": [
    {
     "name": "stdout",
     "output_type": "stream",
     "text": [
      "NMI SCR =  0.2392710601873821\n",
      "NMI AEP =  0.6551022169958212\n",
      "NMI EP (SBM Profile Likelihood) =  0.2698934583635866\n",
      "NMI CPL =  9.01695097299482e-05\n",
      "NMI UPL =  0.0\n"
     ]
    }
   ],
   "source": [
    "n = 1222\n",
    "adjency_matrix = nx.adjacency_matrix(Gc).todense() + np.identity(1222)\n",
    "true_labels = [int(Gc.nodes[node]['value']) for node in Gc.nodes()]\n",
    "\n",
    "#SCR\n",
    "SCR_pred = SCR_prediction(adjency_matrix)\n",
    "NMI = normalized_mutual_info_score(labels_true = true_labels, labels_pred = SCR_pred, average_method='arithmetic')\n",
    "print('NMI SCR = ', NMI)\n",
    "\n",
    "#AEP\n",
    "AEP_pred = AEP_prediction(adjency_matrix)\n",
    "NMI = normalized_mutual_info_score(labels_true = true_labels, labels_pred = AEP_pred, average_method='arithmetic')\n",
    "print('NMI AEP = ', NMI)\n",
    "\n",
    "#EP\n",
    "EP_pred = EP_prediction(adjency_matrix, lambda e: sbm_prof_like(adjency_matrix, e))\n",
    "NMI = normalized_mutual_info_score(labels_true = true_labels, labels_pred = EP_pred, average_method='arithmetic')\n",
    "print('NMI EP (SBM Profile Likelihood) = ', NMI)\n",
    "\n",
    "#CPL\n",
    "CPL_pred = CPL_prediction(graph.adjency_matrix)\n",
    "NMI = normalized_mutual_info_score(labels_true = true_labels, labels_pred = CPL_pred, average_method='arithmetic')\n",
    "print('NMI CPL = ', NMI)\n",
    "\n",
    "#UPL\n",
    "UPL_pred = UPL_prediction(adjency_matrix)\n",
    "NMI = normalized_mutual_info_score(labels_true = true_labels, labels_pred = UPL_pred, average_method='arithmetic')\n",
    "print('NMI UPL = ', NMI)\n",
    "\n",
    "#SDP\n",
    "SDP_pred = SDP_prediction(adjency_matrix)\n",
    "NMI = normalized_mutual_info_score(labels_true = true_labels, labels_pred = SDP_pred, average_method='arithmetic')\n",
    "print('NMI SDP = ', NMI)"
   ]
  },
  {
   "cell_type": "markdown",
   "metadata": {},
   "source": [
    "We can now compare results from the paper and the ones we get here : \n",
    "\n",
    "**Method** | SCR | AEP | EP | UPL | CPL\n",
    "- |:-: |:-: |:-: |:-: |:-: \n",
    "Paper | 0.290 | 0.674 | 0.278(0.731) | 0.001 | 0.725 \n",
    "Reproduction| 0.239 | 0.655 | 0.270 | 0.000 | 0.000 \n"
   ]
  },
  {
   "cell_type": "code",
   "execution_count": null,
   "metadata": {},
   "outputs": [],
   "source": [
    "plt.figure(figsize=(15,10))\n",
    "    \n",
    "options = {\n",
    "    'line_color': 'black',\n",
    "    'linewidths': 1,\n",
    "    'alpha':1 ,\n",
    "    'width':0.1,\n",
    "}\n",
    "\n",
    "i=1\n",
    "legends = ['UPL', 'CPL', 'SCR', 'EP', 'AEP', 'SDP']\n",
    "for pred in [UPL_pred, CPL_pred, SCR_pred, EP_pred, AEP_pred, SDP_pred]:\n",
    "    \n",
    "    plt.subplot(2,3,i)\n",
    "    plt.title(legends[i-1])\n",
    "    \n",
    "    color_map = []\n",
    "    for node in range(len(Gc.nodes())):\n",
    "        if pred[node]==1:\n",
    "            color_map.append('blue')\n",
    "        else: color_map.append('green')      \n",
    "\n",
    "    nx.draw(Gc,  fixed_layout ,node_color = color_map,\\\n",
    "           node_size=[(0.1+max(0,np.log(d[node])))*10 for node in Gc.nodes()], **options) \n",
    "    i+=1\n",
    "\n",
    "plt.show()"
   ]
  }
 ],
 "metadata": {
  "kernelspec": {
   "display_name": "Python 3",
   "language": "python",
   "name": "python3"
  },
  "language_info": {
   "codemirror_mode": {
    "name": "ipython",
    "version": 3
   },
   "file_extension": ".py",
   "mimetype": "text/x-python",
   "name": "python",
   "nbconvert_exporter": "python",
   "pygments_lexer": "ipython3",
   "version": "3.6.0"
  }
 },
 "nbformat": 4,
 "nbformat_minor": 2
}
